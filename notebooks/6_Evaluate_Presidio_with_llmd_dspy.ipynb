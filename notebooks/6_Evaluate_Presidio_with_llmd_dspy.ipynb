{
 "cells": [
  {
   "cell_type": "markdown",
   "id": "847acd88",
   "metadata": {},
   "source": [
    "## Evaluate an LLM recognizer using the Presidio Evaluator framework\n",
    "\n",
    "This notebook demonstrates how to evaluate a Presidio instance using the presidio-evaluator framework. It builds upon [example 4](4_Evaluate_Presidio_Analyzer.ipynb), with changes to the `PresidioAnalyzer` instance to improve detection accuracy. For more information on customizing the Presidio Analyzer, see the [Presidio Analyzer documentation](https://microsoft.github.io/presidio/analyzer/) or this [tutorial](https://microsoft.github.io/presidio/tutorial/).\n",
    "\n",
    "Steps:\n",
    "1. Load dataset from file\n",
    "2. Simple dataset statistics\n",
    "3. Define the AnalyzerEngine object (and its parameters)\n",
    "4. Align the dataset's entities to Presidio's entities\n",
    "5. Set up the Evaluator object\n",
    "6. Run experiment\n",
    "7. Evaluate results\n",
    "8. Error analysis"
   ]
  },
  {
   "cell_type": "code",
   "execution_count": 7,
   "id": "b946feda",
   "metadata": {
    "ExecuteTime": {
     "end_time": "2024-10-07T08:51:55.393735Z",
     "start_time": "2024-10-07T08:51:55.390376Z"
    }
   },
   "outputs": [],
   "source": [
    "# install presidio evaluator via pip if not yet installed\n",
    "\n",
    "#!pip install presidio-evaluator\n",
    "#!pip install \"presidio-analyzer[transformers]\""
   ]
  },
  {
   "cell_type": "code",
   "execution_count": 1,
   "id": "ae85cae9",
   "metadata": {
    "ExecuteTime": {
     "start_time": "2024-10-07T08:51:55.407621Z"
    },
    "jupyter": {
     "is_executing": true
    }
   },
   "outputs": [
    {
     "name": "stdout",
     "output_type": "stream",
     "text": [
      "stanza and spacy_stanza are not installed\n"
     ]
    }
   ],
   "source": [
    "from pathlib import Path\n",
    "from copy import deepcopy\n",
    "from pprint import pprint\n",
    "from collections import Counter\n",
    "from typing import Dict, List\n",
    "import json\n",
    "import warnings\n",
    "\n",
    "warnings.filterwarnings(\"ignore\")\n",
    "\n",
    "from presidio_evaluator import InputSample\n",
    "from presidio_evaluator.evaluation import Evaluator, ModelError, Plotter\n",
    "from presidio_evaluator.models import PresidioAnalyzerWrapper\n",
    "from presidio_evaluator.experiment_tracking import get_experiment_tracker\n",
    "\n",
    "import pandas as pd\n",
    "\n",
    "import dspy\n",
    "\n",
    "pd.set_option(\"display.max_columns\", None)\n",
    "pd.set_option(\"display.max_rows\", None)\n",
    "pd.set_option(\"display.max_colwidth\", None)\n",
    "\n",
    "%reload_ext autoreload\n",
    "%autoreload 2\n",
    "%matplotlib inline"
   ]
  },
  {
   "cell_type": "markdown",
   "id": "736fdd23",
   "metadata": {},
   "source": [
    "## 1. Load dataset from file"
   ]
  },
  {
   "cell_type": "code",
   "execution_count": 29,
   "id": "f4cbd55c",
   "metadata": {
    "ExecuteTime": {
     "end_time": "2024-09-19T19:00:06.630016Z",
     "start_time": "2024-09-19T18:59:59.587398Z"
    }
   },
   "outputs": [
    {
     "name": "stderr",
     "output_type": "stream",
     "text": [
      "tokenizing input: 100%|██████████| 1500/1500 [00:06<00:00, 229.85it/s]"
     ]
    },
    {
     "name": "stdout",
     "output_type": "stream",
     "text": [
      "300\n"
     ]
    },
    {
     "name": "stderr",
     "output_type": "stream",
     "text": [
      "\n"
     ]
    }
   ],
   "source": [
    "dataset_name = \"synth_dataset_v2.json\"\n",
    "dataset = InputSample.read_dataset_json(Path(Path.cwd().parent, \"data\", dataset_name))\n",
    "\n",
    "dataset = dataset[1200:1300]\n",
    "\n",
    "\n",
    "print(f\"Loaded {len(dataset)} samples\")"
   ]
  },
  {
   "cell_type": "markdown",
   "id": "53077517d947cfa",
   "metadata": {},
   "source": [
    "This dataset was auto generated. See more info here [Synthetic data generation](1_Generate_data.ipynb)."
   ]
  },
  {
   "cell_type": "code",
   "execution_count": 30,
   "id": "c164ea07",
   "metadata": {
    "ExecuteTime": {
     "end_time": "2024-09-19T19:00:06.700573Z",
     "start_time": "2024-09-19T19:00:06.642617Z"
    }
   },
   "outputs": [],
   "source": [
    "def get_entity_counts(dataset: List[InputSample]) -> Dict:\n",
    "    \"\"\"Return a dictionary with counter per entity type.\"\"\"\n",
    "    entity_counter = Counter()\n",
    "    for sample in dataset:\n",
    "        for tag in sample.tags:\n",
    "            entity_counter[tag] += 1\n",
    "    return entity_counter"
   ]
  },
  {
   "cell_type": "markdown",
   "id": "d127b576-b19f-4ba9-b434-16332d9f5f2a",
   "metadata": {},
   "source": [
    "## 2. Simple dataset statistics"
   ]
  },
  {
   "cell_type": "code",
   "execution_count": 31,
   "id": "77aedae6",
   "metadata": {
    "ExecuteTime": {
     "end_time": "2024-09-19T19:00:06.780286Z",
     "start_time": "2024-09-19T19:00:06.720020Z"
    }
   },
   "outputs": [
    {
     "name": "stdout",
     "output_type": "stream",
     "text": [
      "Count per entity:\n",
      "[('O', 4302), ('STREET_ADDRESS', 744), ('PERSON', 317), ('ORGANIZATION', 137),\n",
      " ('GPE', 104), ('PHONE_NUMBER', 72), ('TITLE', 35), ('DATE_TIME', 31),\n",
      " ('AGE', 19), ('CREDIT_CARD', 17), ('NRP', 14), ('DOMAIN_NAME', 12),\n",
      " ('IP_ADDRESS', 11), ('EMAIL_ADDRESS', 9), ('ZIP_CODE', 4), ('IBAN_CODE', 1)]\n",
      "nMin and max number of tokens in dataset: Min: 3, Max: 78\n",
      "Min and max sentence length in dataset: Min: 9, Max: 406\n"
     ]
    }
   ],
   "source": [
    "entity_counts = get_entity_counts(dataset)\n",
    "print(\"Count per entity:\")\n",
    "pprint(entity_counts.most_common(), compact=True)\n",
    "\n",
    "print(\n",
    "    \"nMin and max number of tokens in dataset: \"\n",
    "    f\"Min: {min([len(sample.tokens) for sample in dataset])}, \"\n",
    "    f\"Max: {max([len(sample.tokens) for sample in dataset])}\"\n",
    ")\n",
    "\n",
    "print(\n",
    "    f\"Min and max sentence length in dataset: \"\n",
    "    f\"Min: {min([len(sample.full_text) for sample in dataset])}, \"\n",
    "    f\"Max: {max([len(sample.full_text) for sample in dataset])}\"\n",
    ")"
   ]
  },
  {
   "cell_type": "markdown",
   "id": "9c5e16cb-bee8-4f0a-a543-4879daa35b9e",
   "metadata": {},
   "source": [
    "## 3. Define the AnalyzerEngine object \n",
    "In this case, we customize the AnalyzerEngine to use a different NER model, some custom recognizers and the context aware enhancer."
   ]
  },
  {
   "cell_type": "markdown",
   "id": "a92960eb-b0d7-4ce2-ae63-1dfdaef58bdf",
   "metadata": {},
   "source": [
    "### 3.1 Set up the NlpEngine\n",
    "The NLP engine is in charge of text processing using spaCy, and named entity recognition using a transformers model"
   ]
  },
  {
   "cell_type": "code",
   "execution_count": 32,
   "id": "313b508f-e901-40b9-b575-c7fb8a794652",
   "metadata": {
    "ExecuteTime": {
     "end_time": "2024-09-19T19:00:08.062842Z",
     "start_time": "2024-09-19T19:00:06.853338Z"
    }
   },
   "outputs": [],
   "source": [
    "from presidio_analyzer.nlp_engine import SpacyNlpEngine\n",
    "\n",
    "# Define which model to use\n",
    "model_config = [\n",
    "    {\n",
    "        \"lang_code\": \"en\",\n",
    "        \"model_name\": \"en_core_web_sm\"\n",
    "    }\n",
    "]\n",
    "nlp_engine = SpacyNlpEngine(\n",
    "    models=model_config,\n",
    ")\n",
    "nlp_engine.load()"
   ]
  },
  {
   "cell_type": "markdown",
   "id": "6b56b07b-43f2-40ec-b33a-ae2d62ebcd7a",
   "metadata": {},
   "source": [
    "### 3.2 Set up the relevant recognizers\n",
    "Add and remove recognizers to fit the dataset in hand. \n",
    "Adding simple titles and zip code recognizers, another deny list for things that aren't considered PII but labeled as such,\n",
    "and removing all the recognizers that don't map to entities in our dataset."
   ]
  },
  {
   "cell_type": "code",
   "execution_count": 33,
   "id": "0131e028-ac1a-443a-9500-8bada02f39e2",
   "metadata": {},
   "outputs": [
    {
     "name": "stderr",
     "output_type": "stream",
     "text": [
      "2025/01/22 21:51:43 WARNING dspy.primitives.module: There is a mismatch of python version between saved model and current environment. You saved with `python==3.10.9`, but now you have `python==3.10.16`. This might cause errors or performance downgrade on the loaded model, please consider loading the model in the same environment as the saving environment.\n"
     ]
    }
   ],
   "source": [
    "from presidio_evaluator.models.dspy_recognizer import DspyRecognizer\n",
    "from presidio_analyzer import AnalyzerEngine, RecognizerRegistry\n",
    "\n",
    "\n",
    "registry = RecognizerRegistry()\n",
    "\n",
    "registry.add_recognizer(DspyRecognizer())"
   ]
  },
  {
   "cell_type": "markdown",
   "id": "6c0c6c54-93b2-4a80-9d38-325e05a5db61",
   "metadata": {},
   "source": [
    "### 3.4 Create the AnalyzerEngine object"
   ]
  },
  {
   "cell_type": "code",
   "execution_count": 34,
   "id": "81a58abd-582b-441c-9d91-88ff6395c6fd",
   "metadata": {},
   "outputs": [
    {
     "name": "stdout",
     "output_type": "stream",
     "text": [
      "'Supported entities for English:'\n",
      "['PHONE_NUMBER', 'DATE_TIME', 'ORGANIZATION', 'IBAN', 'ID', 'GPE', 'PERSON',\n",
      " 'NRP', 'ADDRESS', 'EMAIL_ADDRESS', 'CREDIT_CARD', 'AGE', 'BANK_ACCOUNT',\n",
      " 'LOCATION', 'SSN', 'IP_ADDRESS', 'NATIONALITY', 'DOMAIN_NAME',\n",
      " 'DRIVER_LICENSE', 'CRYPTO']\n",
      "nLoaded recognizers for English:\n",
      "['DspyRecognizer']\n",
      "nLoaded Context Aware Enhancer:\n",
      "LemmaContextAwareEnhancer\n",
      "('{\"context_similarity_factor\": 0.35, \"min_score_with_context_similarity\": '\n",
      " '0.4, \"context_prefix_count\": 5, \"context_suffix_count\": 0}')\n",
      "nLoaded NER models:\n",
      "[{'lang_code': 'en', 'model_name': 'en_core_web_sm'}]\n"
     ]
    }
   ],
   "source": [
    "# Set up the engine, loads the NLP module (spaCy model by default)\n",
    "# and other PII recognizers\n",
    "analyzer_engine = AnalyzerEngine(\n",
    "    nlp_engine=nlp_engine,\n",
    "    registry=registry,\n",
    "    default_score_threshold=0.3,\n",
    ")\n",
    "\n",
    "pprint(f\"Supported entities for English:\")\n",
    "pprint(analyzer_engine.get_supported_entities(\"en\"), compact=True)\n",
    "\n",
    "print(f\"nLoaded recognizers for English:\")\n",
    "pprint(\n",
    "    [\n",
    "        rec.name\n",
    "        for rec in analyzer_engine.registry.get_recognizers(\"en\", all_fields=True)\n",
    "    ],\n",
    "    compact=True,\n",
    ")\n",
    "\n",
    "print(f\"nLoaded Context Aware Enhancer:\")\n",
    "print(analyzer_engine.context_aware_enhancer.__class__.__name__)\n",
    "pprint(json.dumps(analyzer_engine.context_aware_enhancer.__dict__), compact=True)\n",
    "\n",
    "\n",
    "print(f\"nLoaded NER models:\")\n",
    "pprint(analyzer_engine.nlp_engine.models)"
   ]
  },
  {
   "cell_type": "code",
   "execution_count": 51,
   "id": "c56749c8-7c0e-4c38-91e7-31cafaddd2d5",
   "metadata": {},
   "outputs": [
    {
     "name": "stdout",
     "output_type": "stream",
     "text": [
      "Please return to 35108 ul. Zamkowa 33 Apt. 406\n",
      "Beerze\n",
      ", OV\n",
      " Netherlands 02032 in case of an issue.\n",
      "nEntity: STREET_ADDRESS, Text: 35108 ul. Zamkowa 33 Apt. 406\n",
      "nEntity: GPE, Text: Beerze\n",
      "nEntity: GPE, Text: OV\n",
      "nEntity: GPE, Text: Netherlands\n",
      "nEntity: ZIP_CODE, Text: 02032\n"
     ]
    }
   ],
   "source": [
    "# Test Analyzer\n",
    "#text = \"Yesterday in Mt. Sinai AP: Dana Silver, 79 years old female was complaining of stomach pain. Her ID is 154555\"\n",
    "text = \"\"\"Please return to 35108 ul. Zamkowa 33 Apt. 406\n",
    "Beerze\n",
    ", OV\n",
    " Netherlands 02032 in case of an issue.\"\"\"\n",
    "res = analyzer_engine.analyze(text=text, language=\"en\", return_decision_process=True)\n",
    "print(text)\n",
    "for result in res:\n",
    "    print(\n",
    "        f\"nEntity: {result.entity_type}, Text: {text[result.start:result.end]}\"#nnAnalysis explanation:\"\n",
    "    )\n",
    "    #pprint(result.analysis_explanation)"
   ]
  },
  {
   "cell_type": "markdown",
   "id": "aa44f70a7c7aa3f0",
   "metadata": {},
   "source": [
    "## 4. Align the dataset's entities to Presidio's entities\n",
    "\n",
    "There is possibly a difference between the names of entities in the dataset, and the names of entities Presidio can detect.\n",
    "For example, it could be that a dataset labels a name as PER while Presidio returns PERSON. To be able to compare the predicted value to the actual and gather metrics, an alignment between the entity names is necessary. Consider changing the mapping if your dataset and/or Presidio instance supports difference entity types."
   ]
  },
  {
   "cell_type": "code",
   "execution_count": null,
   "id": "ff2e676f44f72e4e",
   "metadata": {
    "ExecuteTime": {
     "end_time": "2024-09-19T19:05:53.077036Z",
     "start_time": "2024-09-19T19:05:53.020399Z"
    }
   },
   "outputs": [
    {
     "name": "stdout",
     "output_type": "stream",
     "text": [
      "Entities mapping:\n",
      "{'ADDRESS': 'LOCATION',\n",
      " 'AGE': 'AGE',\n",
      " 'BIRTHDAY': 'DATE_TIME',\n",
      " 'CITY': 'LOCATION',\n",
      " 'CREDIT_CARD': 'CREDIT_CARD',\n",
      " 'CREDIT_CARD_NUMBER': 'CREDIT_CARD',\n",
      " 'DATE': 'DATE_TIME',\n",
      " 'DATE_OF_BIRTH': 'DATE_TIME',\n",
      " 'DATE_TIME': 'DATE_TIME',\n",
      " 'DOB': 'DATE_TIME',\n",
      " 'DOMAIN': 'URL',\n",
      " 'DOMAIN_NAME': 'URL',\n",
      " 'EMAIL': 'EMAIL_ADDRESS',\n",
      " 'EMAIL_ADDRESS': 'EMAIL_ADDRESS',\n",
      " 'FACILITY': 'LOCATION',\n",
      " 'FIRST_NAME': 'PERSON',\n",
      " 'GPE': 'LOCATION',\n",
      " 'HCW': 'PERSON',\n",
      " 'HOSP': 'ORGANIZATION',\n",
      " 'HOSPITAL': 'ORGANIZATION',\n",
      " 'IBAN': 'IBAN_CODE',\n",
      " 'IBAN_CODE': 'IBAN_CODE',\n",
      " 'ID': 'ID',\n",
      " 'IP_ADDRESS': 'IP_ADDRESS',\n",
      " 'LAST_NAME': 'PERSON',\n",
      " 'LOC': 'LOCATION',\n",
      " 'LOCATION': 'LOCATION',\n",
      " 'NAME': 'PERSON',\n",
      " 'NATIONALITY': 'NRP',\n",
      " 'NORP': 'NRP',\n",
      " 'NRP': 'NRP',\n",
      " 'O': 'O',\n",
      " 'ORG': 'ORGANIZATION',\n",
      " 'ORGANIZATION': 'ORGANIZATION',\n",
      " 'PATIENT': 'PERSON',\n",
      " 'PATORG': 'ORGANIZATION',\n",
      " 'PER': 'PERSON',\n",
      " 'PERSON': 'PERSON',\n",
      " 'PHONE': 'PHONE_NUMBER',\n",
      " 'PHONE_NUMBER': 'PHONE_NUMBER',\n",
      " 'PREFIX': 'TITLE',\n",
      " 'SSN': 'US_SSN',\n",
      " 'STAFF': 'PERSON',\n",
      " 'STREET_ADDRESS': 'LOCATION',\n",
      " 'TIME': 'DATE_TIME',\n",
      " 'TITLE': 'TITLE',\n",
      " 'URL': 'URL',\n",
      " 'US_DRIVER_LICENSE': 'US_DRIVER_LICENSE',\n",
      " 'US_SSN': 'US_SSN',\n",
      " 'VENDOR': 'ORGANIZATION',\n",
      " 'ZIP': 'ZIP_CODE',\n",
      " 'ZIP_CODE': 'ZIP_CODE'}\n",
      "nCount per entity after alignment:\n",
      "[('O', 4302), ('LOCATION', 848), ('PERSON', 317), ('ORGANIZATION', 137),\n",
      " ('PHONE_NUMBER', 72), ('TITLE', 35), ('DATE_TIME', 31), ('AGE', 19),\n",
      " ('CREDIT_CARD', 17), ('NRP', 14), ('URL', 12), ('IP_ADDRESS', 11),\n",
      " ('EMAIL_ADDRESS', 9), ('ZIP_CODE', 4), ('IBAN_CODE', 1)]\n"
     ]
    }
   ],
   "source": [
    "entities_mapping = PresidioAnalyzerWrapper.presidio_entities_map  # default mapping\n",
    "entities_mapping[\"STREET_ADDRESS\"] = \"LOCATION\"\n",
    "\n",
    "print(\"Entities mapping:\")\n",
    "pprint(entities_mapping)\n",
    "\n",
    "dataset = Evaluator.align_entity_types(\n",
    "    dataset, entities_mapping=entities_mapping, allow_missing_mappings=False\n",
    ")\n",
    "new_entity_counts = get_entity_counts(dataset)\n",
    "print(\"nCount per entity after alignment:\")\n",
    "pprint(new_entity_counts.most_common(), compact=True)\n",
    "\n",
    "dataset_entities = list(new_entity_counts.keys())"
   ]
  },
  {
   "cell_type": "markdown",
   "id": "16dbf6d6-a554-4602-8907-589786d47a12",
   "metadata": {},
   "source": [
    "## 5. Set up the Evaluator object"
   ]
  },
  {
   "cell_type": "code",
   "execution_count": 37,
   "id": "29d39ff1-4f14-4e32-ae84-ecc6c739f829",
   "metadata": {
    "ExecuteTime": {
     "end_time": "2024-09-19T19:05:53.900080Z",
     "start_time": "2024-09-19T19:05:53.838844Z"
    }
   },
   "outputs": [
    {
     "name": "stdout",
     "output_type": "stream",
     "text": [
      "--------\n",
      "Entities supported by this Presidio Analyzer instance:\n",
      "PHONE_NUMBER, DATE_TIME, ORGANIZATION, IBAN, ID, GPE, PERSON, NRP, ADDRESS, EMAIL_ADDRESS, CREDIT_CARD, AGE, BANK_ACCOUNT, LOCATION, SSN, IP_ADDRESS, NATIONALITY, DOMAIN_NAME, DRIVER_LICENSE, CRYPTO\n"
     ]
    }
   ],
   "source": [
    "# Set up the experiment tracker to log the experiment for reproducibility\n",
    "experiment = get_experiment_tracker()\n",
    "\n",
    "# Create the evaluator object\n",
    "evaluator = Evaluator(model=analyzer_engine)\n",
    "\n",
    "\n",
    "# Track model and dataset params\n",
    "params = {\"dataset_name\": dataset_name, \"model_name\": evaluator.model.name}\n",
    "params.update(evaluator.model.to_log())\n",
    "experiment.log_parameters(params)\n",
    "experiment.log_dataset_hash(dataset)\n",
    "experiment.log_parameter(\"entity_mappings\", json.dumps(entities_mapping))"
   ]
  },
  {
   "cell_type": "markdown",
   "id": "2a7d6626-d094-4dfd-8f37-c0443edf00dc",
   "metadata": {},
   "source": [
    "## 6. Run experiment"
   ]
  },
  {
   "cell_type": "code",
   "execution_count": 38,
   "id": "cf65af8f",
   "metadata": {
    "ExecuteTime": {
     "end_time": "2024-09-19T19:06:04.563192Z",
     "start_time": "2024-09-19T19:05:59.219544Z"
    }
   },
   "outputs": [
    {
     "name": "stdout",
     "output_type": "stream",
     "text": [
      "Running model PresidioAnalyzerWrapper on dataset...\n",
      "Finished running model on dataset\n",
      "saving experiment data to experiment_20250123-080711.json\n",
      "CPU times: user 7.79 s, sys: 551 ms, total: 8.34 s\n",
      "Wall time: 10h 15min 27s\n"
     ]
    }
   ],
   "source": [
    "%%time\n",
    "\n",
    "## Run experiment\n",
    "\n",
    "evaluation_results = evaluator.evaluate_all(dataset)\n",
    "results = evaluator.calculate_score(evaluation_results)\n",
    "\n",
    "# Track experiment results\n",
    "experiment.log_metrics(results.to_log())\n",
    "entities, confmatrix = results.to_confusion_matrix()\n",
    "experiment.log_confusion_matrix(matrix=confmatrix, labels=entities)\n",
    "\n",
    "# end experiment\n",
    "experiment.end()\n",
    "\n",
    "# Note that the experiment params and metrics are saved locally"
   ]
  },
  {
   "cell_type": "markdown",
   "id": "69c7518b-132c-4bc4-8155-1634ac4173bc",
   "metadata": {},
   "source": [
    "## 7. Evaluate results"
   ]
  },
  {
   "cell_type": "code",
   "execution_count": 39,
   "id": "5b4d662d-596c-4a69-b3c9-1edcda20cc5b",
   "metadata": {
    "ExecuteTime": {
     "end_time": "2024-09-19T19:06:07.152556Z",
     "start_time": "2024-09-19T19:06:04.567921Z"
    }
   },
   "outputs": [
    {
     "data": {
      "application/vnd.plotly.v1+json": {
       "config": {
        "plotlyServerURL": "https://plot.ly"
       },
       "data": [
        {
         "alignmentgroup": "True",
         "cliponaxis": false,
         "hovertemplate": "f2_score=%{x}<br>entity=%{y}<br>count=%{marker.color}<extra></extra>",
         "legendgroup": "",
         "marker": {
          "color": [
           9,
           72,
           31,
           17,
           19,
           135,
           598,
           11,
           0,
           0,
           0,
           0,
           317,
           14,
           0,
           1223
          ],
          "coloraxis": "coloraxis",
          "pattern": {
           "shape": ""
          }
         },
         "name": "",
         "offsetgroup": "",
         "orientation": "h",
         "showlegend": false,
         "textangle": 0,
         "textfont": {
          "size": 12
         },
         "textposition": "outside",
         "texttemplate": "%{x:.2}",
         "type": "bar",
         "x": [
          1,
          0.9809264305177111,
          0.849673202614379,
          1,
          0.9374999999999999,
          0.9315866084425035,
          0.027015793848711556,
          1,
          null,
          null,
          null,
          null,
          0.927703134996801,
          null,
          null,
          0.6545102184637068
         ],
         "xaxis": "x",
         "y": [
          "EMAIL_ADDRESS",
          "PHONE_NUMBER",
          "DATE_TIME",
          "CREDIT_CARD",
          "AGE",
          "ORGANIZATION",
          "LOCATION",
          "IP_ADDRESS",
          "NATIONALITY",
          "DOMAIN_NAME",
          "IBAN",
          "GPE",
          "PERSON",
          "NRP",
          "ADDRESS",
          "PII"
         ],
         "yaxis": "y"
        }
       ],
       "layout": {
        "annotations": [
         {
          "font": {
           "color": "gray",
           "size": 12
          },
          "showarrow": false,
          "text": "",
          "x": 0.5,
          "xref": "paper",
          "y": 1.1,
          "yref": "paper"
         }
        ],
        "barmode": "group",
        "coloraxis": {
         "colorbar": {
          "title": {
           "text": "count"
          }
         },
         "colorscale": [
          [
           0,
           "#0d0887"
          ],
          [
           0.1111111111111111,
           "#46039f"
          ],
          [
           0.2222222222222222,
           "#7201a8"
          ],
          [
           0.3333333333333333,
           "#9c179e"
          ],
          [
           0.4444444444444444,
           "#bd3786"
          ],
          [
           0.5555555555555556,
           "#d8576b"
          ],
          [
           0.6666666666666666,
           "#ed7953"
          ],
          [
           0.7777777777777778,
           "#fb9f3a"
          ],
          [
           0.8888888888888888,
           "#fdca26"
          ],
          [
           1,
           "#f0f921"
          ]
         ]
        },
        "height": 500,
        "legend": {
         "tracegroupgap": 0
        },
        "plot_bgcolor": "#FFF",
        "template": {
         "data": {
          "bar": [
           {
            "error_x": {
             "color": "#2a3f5f"
            },
            "error_y": {
             "color": "#2a3f5f"
            },
            "marker": {
             "line": {
              "color": "#E5ECF6",
              "width": 0.5
             },
             "pattern": {
              "fillmode": "overlay",
              "size": 10,
              "solidity": 0.2
             }
            },
            "type": "bar"
           }
          ],
          "barpolar": [
           {
            "marker": {
             "line": {
              "color": "#E5ECF6",
              "width": 0.5
             },
             "pattern": {
              "fillmode": "overlay",
              "size": 10,
              "solidity": 0.2
             }
            },
            "type": "barpolar"
           }
          ],
          "carpet": [
           {
            "aaxis": {
             "endlinecolor": "#2a3f5f",
             "gridcolor": "white",
             "linecolor": "white",
             "minorgridcolor": "white",
             "startlinecolor": "#2a3f5f"
            },
            "baxis": {
             "endlinecolor": "#2a3f5f",
             "gridcolor": "white",
             "linecolor": "white",
             "minorgridcolor": "white",
             "startlinecolor": "#2a3f5f"
            },
            "type": "carpet"
           }
          ],
          "choropleth": [
           {
            "colorbar": {
             "outlinewidth": 0,
             "ticks": ""
            },
            "type": "choropleth"
           }
          ],
          "contour": [
           {
            "colorbar": {
             "outlinewidth": 0,
             "ticks": ""
            },
            "colorscale": [
             [
              0,
              "#0d0887"
             ],
             [
              0.1111111111111111,
              "#46039f"
             ],
             [
              0.2222222222222222,
              "#7201a8"
             ],
             [
              0.3333333333333333,
              "#9c179e"
             ],
             [
              0.4444444444444444,
              "#bd3786"
             ],
             [
              0.5555555555555556,
              "#d8576b"
             ],
             [
              0.6666666666666666,
              "#ed7953"
             ],
             [
              0.7777777777777778,
              "#fb9f3a"
             ],
             [
              0.8888888888888888,
              "#fdca26"
             ],
             [
              1,
              "#f0f921"
             ]
            ],
            "type": "contour"
           }
          ],
          "contourcarpet": [
           {
            "colorbar": {
             "outlinewidth": 0,
             "ticks": ""
            },
            "type": "contourcarpet"
           }
          ],
          "heatmap": [
           {
            "colorbar": {
             "outlinewidth": 0,
             "ticks": ""
            },
            "colorscale": [
             [
              0,
              "#0d0887"
             ],
             [
              0.1111111111111111,
              "#46039f"
             ],
             [
              0.2222222222222222,
              "#7201a8"
             ],
             [
              0.3333333333333333,
              "#9c179e"
             ],
             [
              0.4444444444444444,
              "#bd3786"
             ],
             [
              0.5555555555555556,
              "#d8576b"
             ],
             [
              0.6666666666666666,
              "#ed7953"
             ],
             [
              0.7777777777777778,
              "#fb9f3a"
             ],
             [
              0.8888888888888888,
              "#fdca26"
             ],
             [
              1,
              "#f0f921"
             ]
            ],
            "type": "heatmap"
           }
          ],
          "heatmapgl": [
           {
            "colorbar": {
             "outlinewidth": 0,
             "ticks": ""
            },
            "colorscale": [
             [
              0,
              "#0d0887"
             ],
             [
              0.1111111111111111,
              "#46039f"
             ],
             [
              0.2222222222222222,
              "#7201a8"
             ],
             [
              0.3333333333333333,
              "#9c179e"
             ],
             [
              0.4444444444444444,
              "#bd3786"
             ],
             [
              0.5555555555555556,
              "#d8576b"
             ],
             [
              0.6666666666666666,
              "#ed7953"
             ],
             [
              0.7777777777777778,
              "#fb9f3a"
             ],
             [
              0.8888888888888888,
              "#fdca26"
             ],
             [
              1,
              "#f0f921"
             ]
            ],
            "type": "heatmapgl"
           }
          ],
          "histogram": [
           {
            "marker": {
             "pattern": {
              "fillmode": "overlay",
              "size": 10,
              "solidity": 0.2
             }
            },
            "type": "histogram"
           }
          ],
          "histogram2d": [
           {
            "colorbar": {
             "outlinewidth": 0,
             "ticks": ""
            },
            "colorscale": [
             [
              0,
              "#0d0887"
             ],
             [
              0.1111111111111111,
              "#46039f"
             ],
             [
              0.2222222222222222,
              "#7201a8"
             ],
             [
              0.3333333333333333,
              "#9c179e"
             ],
             [
              0.4444444444444444,
              "#bd3786"
             ],
             [
              0.5555555555555556,
              "#d8576b"
             ],
             [
              0.6666666666666666,
              "#ed7953"
             ],
             [
              0.7777777777777778,
              "#fb9f3a"
             ],
             [
              0.8888888888888888,
              "#fdca26"
             ],
             [
              1,
              "#f0f921"
             ]
            ],
            "type": "histogram2d"
           }
          ],
          "histogram2dcontour": [
           {
            "colorbar": {
             "outlinewidth": 0,
             "ticks": ""
            },
            "colorscale": [
             [
              0,
              "#0d0887"
             ],
             [
              0.1111111111111111,
              "#46039f"
             ],
             [
              0.2222222222222222,
              "#7201a8"
             ],
             [
              0.3333333333333333,
              "#9c179e"
             ],
             [
              0.4444444444444444,
              "#bd3786"
             ],
             [
              0.5555555555555556,
              "#d8576b"
             ],
             [
              0.6666666666666666,
              "#ed7953"
             ],
             [
              0.7777777777777778,
              "#fb9f3a"
             ],
             [
              0.8888888888888888,
              "#fdca26"
             ],
             [
              1,
              "#f0f921"
             ]
            ],
            "type": "histogram2dcontour"
           }
          ],
          "mesh3d": [
           {
            "colorbar": {
             "outlinewidth": 0,
             "ticks": ""
            },
            "type": "mesh3d"
           }
          ],
          "parcoords": [
           {
            "line": {
             "colorbar": {
              "outlinewidth": 0,
              "ticks": ""
             }
            },
            "type": "parcoords"
           }
          ],
          "pie": [
           {
            "automargin": true,
            "type": "pie"
           }
          ],
          "scatter": [
           {
            "fillpattern": {
             "fillmode": "overlay",
             "size": 10,
             "solidity": 0.2
            },
            "type": "scatter"
           }
          ],
          "scatter3d": [
           {
            "line": {
             "colorbar": {
              "outlinewidth": 0,
              "ticks": ""
             }
            },
            "marker": {
             "colorbar": {
              "outlinewidth": 0,
              "ticks": ""
             }
            },
            "type": "scatter3d"
           }
          ],
          "scattercarpet": [
           {
            "marker": {
             "colorbar": {
              "outlinewidth": 0,
              "ticks": ""
             }
            },
            "type": "scattercarpet"
           }
          ],
          "scattergeo": [
           {
            "marker": {
             "colorbar": {
              "outlinewidth": 0,
              "ticks": ""
             }
            },
            "type": "scattergeo"
           }
          ],
          "scattergl": [
           {
            "marker": {
             "colorbar": {
              "outlinewidth": 0,
              "ticks": ""
             }
            },
            "type": "scattergl"
           }
          ],
          "scattermapbox": [
           {
            "marker": {
             "colorbar": {
              "outlinewidth": 0,
              "ticks": ""
             }
            },
            "type": "scattermapbox"
           }
          ],
          "scatterpolar": [
           {
            "marker": {
             "colorbar": {
              "outlinewidth": 0,
              "ticks": ""
             }
            },
            "type": "scatterpolar"
           }
          ],
          "scatterpolargl": [
           {
            "marker": {
             "colorbar": {
              "outlinewidth": 0,
              "ticks": ""
             }
            },
            "type": "scatterpolargl"
           }
          ],
          "scatterternary": [
           {
            "marker": {
             "colorbar": {
              "outlinewidth": 0,
              "ticks": ""
             }
            },
            "type": "scatterternary"
           }
          ],
          "surface": [
           {
            "colorbar": {
             "outlinewidth": 0,
             "ticks": ""
            },
            "colorscale": [
             [
              0,
              "#0d0887"
             ],
             [
              0.1111111111111111,
              "#46039f"
             ],
             [
              0.2222222222222222,
              "#7201a8"
             ],
             [
              0.3333333333333333,
              "#9c179e"
             ],
             [
              0.4444444444444444,
              "#bd3786"
             ],
             [
              0.5555555555555556,
              "#d8576b"
             ],
             [
              0.6666666666666666,
              "#ed7953"
             ],
             [
              0.7777777777777778,
              "#fb9f3a"
             ],
             [
              0.8888888888888888,
              "#fdca26"
             ],
             [
              1,
              "#f0f921"
             ]
            ],
            "type": "surface"
           }
          ],
          "table": [
           {
            "cells": {
             "fill": {
              "color": "#EBF0F8"
             },
             "line": {
              "color": "white"
             }
            },
            "header": {
             "fill": {
              "color": "#C8D4E3"
             },
             "line": {
              "color": "white"
             }
            },
            "type": "table"
           }
          ]
         },
         "layout": {
          "annotationdefaults": {
           "arrowcolor": "#2a3f5f",
           "arrowhead": 0,
           "arrowwidth": 1
          },
          "autotypenumbers": "strict",
          "coloraxis": {
           "colorbar": {
            "outlinewidth": 0,
            "ticks": ""
           }
          },
          "colorscale": {
           "diverging": [
            [
             0,
             "#8e0152"
            ],
            [
             0.1,
             "#c51b7d"
            ],
            [
             0.2,
             "#de77ae"
            ],
            [
             0.3,
             "#f1b6da"
            ],
            [
             0.4,
             "#fde0ef"
            ],
            [
             0.5,
             "#f7f7f7"
            ],
            [
             0.6,
             "#e6f5d0"
            ],
            [
             0.7,
             "#b8e186"
            ],
            [
             0.8,
             "#7fbc41"
            ],
            [
             0.9,
             "#4d9221"
            ],
            [
             1,
             "#276419"
            ]
           ],
           "sequential": [
            [
             0,
             "#0d0887"
            ],
            [
             0.1111111111111111,
             "#46039f"
            ],
            [
             0.2222222222222222,
             "#7201a8"
            ],
            [
             0.3333333333333333,
             "#9c179e"
            ],
            [
             0.4444444444444444,
             "#bd3786"
            ],
            [
             0.5555555555555556,
             "#d8576b"
            ],
            [
             0.6666666666666666,
             "#ed7953"
            ],
            [
             0.7777777777777778,
             "#fb9f3a"
            ],
            [
             0.8888888888888888,
             "#fdca26"
            ],
            [
             1,
             "#f0f921"
            ]
           ],
           "sequentialminus": [
            [
             0,
             "#0d0887"
            ],
            [
             0.1111111111111111,
             "#46039f"
            ],
            [
             0.2222222222222222,
             "#7201a8"
            ],
            [
             0.3333333333333333,
             "#9c179e"
            ],
            [
             0.4444444444444444,
             "#bd3786"
            ],
            [
             0.5555555555555556,
             "#d8576b"
            ],
            [
             0.6666666666666666,
             "#ed7953"
            ],
            [
             0.7777777777777778,
             "#fb9f3a"
            ],
            [
             0.8888888888888888,
             "#fdca26"
            ],
            [
             1,
             "#f0f921"
            ]
           ]
          },
          "colorway": [
           "#636efa",
           "#EF553B",
           "#00cc96",
           "#ab63fa",
           "#FFA15A",
           "#19d3f3",
           "#FF6692",
           "#B6E880",
           "#FF97FF",
           "#FECB52"
          ],
          "font": {
           "color": "#2a3f5f"
          },
          "geo": {
           "bgcolor": "white",
           "lakecolor": "white",
           "landcolor": "#E5ECF6",
           "showlakes": true,
           "showland": true,
           "subunitcolor": "white"
          },
          "hoverlabel": {
           "align": "left"
          },
          "hovermode": "closest",
          "mapbox": {
           "style": "light"
          },
          "paper_bgcolor": "white",
          "plot_bgcolor": "#E5ECF6",
          "polar": {
           "angularaxis": {
            "gridcolor": "white",
            "linecolor": "white",
            "ticks": ""
           },
           "bgcolor": "#E5ECF6",
           "radialaxis": {
            "gridcolor": "white",
            "linecolor": "white",
            "ticks": ""
           }
          },
          "scene": {
           "xaxis": {
            "backgroundcolor": "#E5ECF6",
            "gridcolor": "white",
            "gridwidth": 2,
            "linecolor": "white",
            "showbackground": true,
            "ticks": "",
            "zerolinecolor": "white"
           },
           "yaxis": {
            "backgroundcolor": "#E5ECF6",
            "gridcolor": "white",
            "gridwidth": 2,
            "linecolor": "white",
            "showbackground": true,
            "ticks": "",
            "zerolinecolor": "white"
           },
           "zaxis": {
            "backgroundcolor": "#E5ECF6",
            "gridcolor": "white",
            "gridwidth": 2,
            "linecolor": "white",
            "showbackground": true,
            "ticks": "",
            "zerolinecolor": "white"
           }
          },
          "shapedefaults": {
           "line": {
            "color": "#2a3f5f"
           }
          },
          "ternary": {
           "aaxis": {
            "gridcolor": "white",
            "linecolor": "white",
            "ticks": ""
           },
           "baxis": {
            "gridcolor": "white",
            "linecolor": "white",
            "ticks": ""
           },
           "bgcolor": "#E5ECF6",
           "caxis": {
            "gridcolor": "white",
            "linecolor": "white",
            "ticks": ""
           }
          },
          "title": {
           "x": 0.05
          },
          "xaxis": {
           "automargin": true,
           "gridcolor": "white",
           "linecolor": "white",
           "ticks": "",
           "title": {
            "standoff": 15
           },
           "zerolinecolor": "white",
           "zerolinewidth": 2
          },
          "yaxis": {
           "automargin": true,
           "gridcolor": "white",
           "linecolor": "white",
           "ticks": "",
           "title": {
            "standoff": 15
           },
           "zerolinecolor": "white",
           "zerolinewidth": 2
          }
         }
        },
        "title": {
         "text": "Per-entity f2_score for Presidio Analyzer"
        },
        "xaxis": {
         "anchor": "y",
         "domain": [
          0,
          1
         ],
         "linecolor": "#BCCCDC",
         "showgrid": false,
         "title": {
          "text": "PII entity"
         }
        },
        "yaxis": {
         "anchor": "x",
         "categoryorder": "total ascending",
         "domain": [
          0,
          1
         ],
         "linecolor": "#BCCCDC",
         "showgrid": false,
         "title": {
          "text": "f2_score"
         }
        }
       }
      }
     },
     "metadata": {},
     "output_type": "display_data"
    },
    {
     "data": {
      "application/vnd.plotly.v1+json": {
       "config": {
        "plotlyServerURL": "https://plot.ly"
       },
       "data": [
        {
         "alignmentgroup": "True",
         "cliponaxis": false,
         "hovertemplate": "recall=%{x}<br>entity=%{y}<br>count=%{marker.color}<extra></extra>",
         "legendgroup": "",
         "marker": {
          "color": [
           9,
           72,
           31,
           17,
           19,
           135,
           598,
           11,
           0,
           0,
           0,
           0,
           317,
           14,
           0,
           1223
          ],
          "coloraxis": "coloraxis",
          "pattern": {
           "shape": ""
          }
         },
         "name": "",
         "offsetgroup": "",
         "orientation": "h",
         "showlegend": false,
         "textangle": 0,
         "textfont": {
          "size": 12
         },
         "textposition": "outside",
         "texttemplate": "%{x:.2}",
         "type": "bar",
         "x": [
          1,
          1,
          0.8387096774193549,
          1,
          0.9473684210526315,
          0.9481481481481482,
          0.021739130434782608,
          1,
          null,
          null,
          null,
          null,
          0.9148264984227129,
          0,
          null,
          0.6075224856909239
         ],
         "xaxis": "x",
         "y": [
          "EMAIL_ADDRESS",
          "PHONE_NUMBER",
          "DATE_TIME",
          "CREDIT_CARD",
          "AGE",
          "ORGANIZATION",
          "LOCATION",
          "IP_ADDRESS",
          "NATIONALITY",
          "DOMAIN_NAME",
          "IBAN",
          "GPE",
          "PERSON",
          "NRP",
          "ADDRESS",
          "PII"
         ],
         "yaxis": "y"
        }
       ],
       "layout": {
        "annotations": [
         {
          "font": {
           "color": "gray",
           "size": 12
          },
          "showarrow": false,
          "text": "",
          "x": 0.5,
          "xref": "paper",
          "y": 1.1,
          "yref": "paper"
         }
        ],
        "barmode": "group",
        "coloraxis": {
         "colorbar": {
          "title": {
           "text": "count"
          }
         },
         "colorscale": [
          [
           0,
           "#0d0887"
          ],
          [
           0.1111111111111111,
           "#46039f"
          ],
          [
           0.2222222222222222,
           "#7201a8"
          ],
          [
           0.3333333333333333,
           "#9c179e"
          ],
          [
           0.4444444444444444,
           "#bd3786"
          ],
          [
           0.5555555555555556,
           "#d8576b"
          ],
          [
           0.6666666666666666,
           "#ed7953"
          ],
          [
           0.7777777777777778,
           "#fb9f3a"
          ],
          [
           0.8888888888888888,
           "#fdca26"
          ],
          [
           1,
           "#f0f921"
          ]
         ]
        },
        "height": 500,
        "legend": {
         "tracegroupgap": 0
        },
        "plot_bgcolor": "#FFF",
        "template": {
         "data": {
          "bar": [
           {
            "error_x": {
             "color": "#2a3f5f"
            },
            "error_y": {
             "color": "#2a3f5f"
            },
            "marker": {
             "line": {
              "color": "#E5ECF6",
              "width": 0.5
             },
             "pattern": {
              "fillmode": "overlay",
              "size": 10,
              "solidity": 0.2
             }
            },
            "type": "bar"
           }
          ],
          "barpolar": [
           {
            "marker": {
             "line": {
              "color": "#E5ECF6",
              "width": 0.5
             },
             "pattern": {
              "fillmode": "overlay",
              "size": 10,
              "solidity": 0.2
             }
            },
            "type": "barpolar"
           }
          ],
          "carpet": [
           {
            "aaxis": {
             "endlinecolor": "#2a3f5f",
             "gridcolor": "white",
             "linecolor": "white",
             "minorgridcolor": "white",
             "startlinecolor": "#2a3f5f"
            },
            "baxis": {
             "endlinecolor": "#2a3f5f",
             "gridcolor": "white",
             "linecolor": "white",
             "minorgridcolor": "white",
             "startlinecolor": "#2a3f5f"
            },
            "type": "carpet"
           }
          ],
          "choropleth": [
           {
            "colorbar": {
             "outlinewidth": 0,
             "ticks": ""
            },
            "type": "choropleth"
           }
          ],
          "contour": [
           {
            "colorbar": {
             "outlinewidth": 0,
             "ticks": ""
            },
            "colorscale": [
             [
              0,
              "#0d0887"
             ],
             [
              0.1111111111111111,
              "#46039f"
             ],
             [
              0.2222222222222222,
              "#7201a8"
             ],
             [
              0.3333333333333333,
              "#9c179e"
             ],
             [
              0.4444444444444444,
              "#bd3786"
             ],
             [
              0.5555555555555556,
              "#d8576b"
             ],
             [
              0.6666666666666666,
              "#ed7953"
             ],
             [
              0.7777777777777778,
              "#fb9f3a"
             ],
             [
              0.8888888888888888,
              "#fdca26"
             ],
             [
              1,
              "#f0f921"
             ]
            ],
            "type": "contour"
           }
          ],
          "contourcarpet": [
           {
            "colorbar": {
             "outlinewidth": 0,
             "ticks": ""
            },
            "type": "contourcarpet"
           }
          ],
          "heatmap": [
           {
            "colorbar": {
             "outlinewidth": 0,
             "ticks": ""
            },
            "colorscale": [
             [
              0,
              "#0d0887"
             ],
             [
              0.1111111111111111,
              "#46039f"
             ],
             [
              0.2222222222222222,
              "#7201a8"
             ],
             [
              0.3333333333333333,
              "#9c179e"
             ],
             [
              0.4444444444444444,
              "#bd3786"
             ],
             [
              0.5555555555555556,
              "#d8576b"
             ],
             [
              0.6666666666666666,
              "#ed7953"
             ],
             [
              0.7777777777777778,
              "#fb9f3a"
             ],
             [
              0.8888888888888888,
              "#fdca26"
             ],
             [
              1,
              "#f0f921"
             ]
            ],
            "type": "heatmap"
           }
          ],
          "heatmapgl": [
           {
            "colorbar": {
             "outlinewidth": 0,
             "ticks": ""
            },
            "colorscale": [
             [
              0,
              "#0d0887"
             ],
             [
              0.1111111111111111,
              "#46039f"
             ],
             [
              0.2222222222222222,
              "#7201a8"
             ],
             [
              0.3333333333333333,
              "#9c179e"
             ],
             [
              0.4444444444444444,
              "#bd3786"
             ],
             [
              0.5555555555555556,
              "#d8576b"
             ],
             [
              0.6666666666666666,
              "#ed7953"
             ],
             [
              0.7777777777777778,
              "#fb9f3a"
             ],
             [
              0.8888888888888888,
              "#fdca26"
             ],
             [
              1,
              "#f0f921"
             ]
            ],
            "type": "heatmapgl"
           }
          ],
          "histogram": [
           {
            "marker": {
             "pattern": {
              "fillmode": "overlay",
              "size": 10,
              "solidity": 0.2
             }
            },
            "type": "histogram"
           }
          ],
          "histogram2d": [
           {
            "colorbar": {
             "outlinewidth": 0,
             "ticks": ""
            },
            "colorscale": [
             [
              0,
              "#0d0887"
             ],
             [
              0.1111111111111111,
              "#46039f"
             ],
             [
              0.2222222222222222,
              "#7201a8"
             ],
             [
              0.3333333333333333,
              "#9c179e"
             ],
             [
              0.4444444444444444,
              "#bd3786"
             ],
             [
              0.5555555555555556,
              "#d8576b"
             ],
             [
              0.6666666666666666,
              "#ed7953"
             ],
             [
              0.7777777777777778,
              "#fb9f3a"
             ],
             [
              0.8888888888888888,
              "#fdca26"
             ],
             [
              1,
              "#f0f921"
             ]
            ],
            "type": "histogram2d"
           }
          ],
          "histogram2dcontour": [
           {
            "colorbar": {
             "outlinewidth": 0,
             "ticks": ""
            },
            "colorscale": [
             [
              0,
              "#0d0887"
             ],
             [
              0.1111111111111111,
              "#46039f"
             ],
             [
              0.2222222222222222,
              "#7201a8"
             ],
             [
              0.3333333333333333,
              "#9c179e"
             ],
             [
              0.4444444444444444,
              "#bd3786"
             ],
             [
              0.5555555555555556,
              "#d8576b"
             ],
             [
              0.6666666666666666,
              "#ed7953"
             ],
             [
              0.7777777777777778,
              "#fb9f3a"
             ],
             [
              0.8888888888888888,
              "#fdca26"
             ],
             [
              1,
              "#f0f921"
             ]
            ],
            "type": "histogram2dcontour"
           }
          ],
          "mesh3d": [
           {
            "colorbar": {
             "outlinewidth": 0,
             "ticks": ""
            },
            "type": "mesh3d"
           }
          ],
          "parcoords": [
           {
            "line": {
             "colorbar": {
              "outlinewidth": 0,
              "ticks": ""
             }
            },
            "type": "parcoords"
           }
          ],
          "pie": [
           {
            "automargin": true,
            "type": "pie"
           }
          ],
          "scatter": [
           {
            "fillpattern": {
             "fillmode": "overlay",
             "size": 10,
             "solidity": 0.2
            },
            "type": "scatter"
           }
          ],
          "scatter3d": [
           {
            "line": {
             "colorbar": {
              "outlinewidth": 0,
              "ticks": ""
             }
            },
            "marker": {
             "colorbar": {
              "outlinewidth": 0,
              "ticks": ""
             }
            },
            "type": "scatter3d"
           }
          ],
          "scattercarpet": [
           {
            "marker": {
             "colorbar": {
              "outlinewidth": 0,
              "ticks": ""
             }
            },
            "type": "scattercarpet"
           }
          ],
          "scattergeo": [
           {
            "marker": {
             "colorbar": {
              "outlinewidth": 0,
              "ticks": ""
             }
            },
            "type": "scattergeo"
           }
          ],
          "scattergl": [
           {
            "marker": {
             "colorbar": {
              "outlinewidth": 0,
              "ticks": ""
             }
            },
            "type": "scattergl"
           }
          ],
          "scattermapbox": [
           {
            "marker": {
             "colorbar": {
              "outlinewidth": 0,
              "ticks": ""
             }
            },
            "type": "scattermapbox"
           }
          ],
          "scatterpolar": [
           {
            "marker": {
             "colorbar": {
              "outlinewidth": 0,
              "ticks": ""
             }
            },
            "type": "scatterpolar"
           }
          ],
          "scatterpolargl": [
           {
            "marker": {
             "colorbar": {
              "outlinewidth": 0,
              "ticks": ""
             }
            },
            "type": "scatterpolargl"
           }
          ],
          "scatterternary": [
           {
            "marker": {
             "colorbar": {
              "outlinewidth": 0,
              "ticks": ""
             }
            },
            "type": "scatterternary"
           }
          ],
          "surface": [
           {
            "colorbar": {
             "outlinewidth": 0,
             "ticks": ""
            },
            "colorscale": [
             [
              0,
              "#0d0887"
             ],
             [
              0.1111111111111111,
              "#46039f"
             ],
             [
              0.2222222222222222,
              "#7201a8"
             ],
             [
              0.3333333333333333,
              "#9c179e"
             ],
             [
              0.4444444444444444,
              "#bd3786"
             ],
             [
              0.5555555555555556,
              "#d8576b"
             ],
             [
              0.6666666666666666,
              "#ed7953"
             ],
             [
              0.7777777777777778,
              "#fb9f3a"
             ],
             [
              0.8888888888888888,
              "#fdca26"
             ],
             [
              1,
              "#f0f921"
             ]
            ],
            "type": "surface"
           }
          ],
          "table": [
           {
            "cells": {
             "fill": {
              "color": "#EBF0F8"
             },
             "line": {
              "color": "white"
             }
            },
            "header": {
             "fill": {
              "color": "#C8D4E3"
             },
             "line": {
              "color": "white"
             }
            },
            "type": "table"
           }
          ]
         },
         "layout": {
          "annotationdefaults": {
           "arrowcolor": "#2a3f5f",
           "arrowhead": 0,
           "arrowwidth": 1
          },
          "autotypenumbers": "strict",
          "coloraxis": {
           "colorbar": {
            "outlinewidth": 0,
            "ticks": ""
           }
          },
          "colorscale": {
           "diverging": [
            [
             0,
             "#8e0152"
            ],
            [
             0.1,
             "#c51b7d"
            ],
            [
             0.2,
             "#de77ae"
            ],
            [
             0.3,
             "#f1b6da"
            ],
            [
             0.4,
             "#fde0ef"
            ],
            [
             0.5,
             "#f7f7f7"
            ],
            [
             0.6,
             "#e6f5d0"
            ],
            [
             0.7,
             "#b8e186"
            ],
            [
             0.8,
             "#7fbc41"
            ],
            [
             0.9,
             "#4d9221"
            ],
            [
             1,
             "#276419"
            ]
           ],
           "sequential": [
            [
             0,
             "#0d0887"
            ],
            [
             0.1111111111111111,
             "#46039f"
            ],
            [
             0.2222222222222222,
             "#7201a8"
            ],
            [
             0.3333333333333333,
             "#9c179e"
            ],
            [
             0.4444444444444444,
             "#bd3786"
            ],
            [
             0.5555555555555556,
             "#d8576b"
            ],
            [
             0.6666666666666666,
             "#ed7953"
            ],
            [
             0.7777777777777778,
             "#fb9f3a"
            ],
            [
             0.8888888888888888,
             "#fdca26"
            ],
            [
             1,
             "#f0f921"
            ]
           ],
           "sequentialminus": [
            [
             0,
             "#0d0887"
            ],
            [
             0.1111111111111111,
             "#46039f"
            ],
            [
             0.2222222222222222,
             "#7201a8"
            ],
            [
             0.3333333333333333,
             "#9c179e"
            ],
            [
             0.4444444444444444,
             "#bd3786"
            ],
            [
             0.5555555555555556,
             "#d8576b"
            ],
            [
             0.6666666666666666,
             "#ed7953"
            ],
            [
             0.7777777777777778,
             "#fb9f3a"
            ],
            [
             0.8888888888888888,
             "#fdca26"
            ],
            [
             1,
             "#f0f921"
            ]
           ]
          },
          "colorway": [
           "#636efa",
           "#EF553B",
           "#00cc96",
           "#ab63fa",
           "#FFA15A",
           "#19d3f3",
           "#FF6692",
           "#B6E880",
           "#FF97FF",
           "#FECB52"
          ],
          "font": {
           "color": "#2a3f5f"
          },
          "geo": {
           "bgcolor": "white",
           "lakecolor": "white",
           "landcolor": "#E5ECF6",
           "showlakes": true,
           "showland": true,
           "subunitcolor": "white"
          },
          "hoverlabel": {
           "align": "left"
          },
          "hovermode": "closest",
          "mapbox": {
           "style": "light"
          },
          "paper_bgcolor": "white",
          "plot_bgcolor": "#E5ECF6",
          "polar": {
           "angularaxis": {
            "gridcolor": "white",
            "linecolor": "white",
            "ticks": ""
           },
           "bgcolor": "#E5ECF6",
           "radialaxis": {
            "gridcolor": "white",
            "linecolor": "white",
            "ticks": ""
           }
          },
          "scene": {
           "xaxis": {
            "backgroundcolor": "#E5ECF6",
            "gridcolor": "white",
            "gridwidth": 2,
            "linecolor": "white",
            "showbackground": true,
            "ticks": "",
            "zerolinecolor": "white"
           },
           "yaxis": {
            "backgroundcolor": "#E5ECF6",
            "gridcolor": "white",
            "gridwidth": 2,
            "linecolor": "white",
            "showbackground": true,
            "ticks": "",
            "zerolinecolor": "white"
           },
           "zaxis": {
            "backgroundcolor": "#E5ECF6",
            "gridcolor": "white",
            "gridwidth": 2,
            "linecolor": "white",
            "showbackground": true,
            "ticks": "",
            "zerolinecolor": "white"
           }
          },
          "shapedefaults": {
           "line": {
            "color": "#2a3f5f"
           }
          },
          "ternary": {
           "aaxis": {
            "gridcolor": "white",
            "linecolor": "white",
            "ticks": ""
           },
           "baxis": {
            "gridcolor": "white",
            "linecolor": "white",
            "ticks": ""
           },
           "bgcolor": "#E5ECF6",
           "caxis": {
            "gridcolor": "white",
            "linecolor": "white",
            "ticks": ""
           }
          },
          "title": {
           "x": 0.05
          },
          "xaxis": {
           "automargin": true,
           "gridcolor": "white",
           "linecolor": "white",
           "ticks": "",
           "title": {
            "standoff": 15
           },
           "zerolinecolor": "white",
           "zerolinewidth": 2
          },
          "yaxis": {
           "automargin": true,
           "gridcolor": "white",
           "linecolor": "white",
           "ticks": "",
           "title": {
            "standoff": 15
           },
           "zerolinecolor": "white",
           "zerolinewidth": 2
          }
         }
        },
        "title": {
         "text": "Per-entity recall for Presidio Analyzer"
        },
        "xaxis": {
         "anchor": "y",
         "domain": [
          0,
          1
         ],
         "linecolor": "#BCCCDC",
         "showgrid": false,
         "title": {
          "text": "PII entity"
         }
        },
        "yaxis": {
         "anchor": "x",
         "categoryorder": "total ascending",
         "domain": [
          0,
          1
         ],
         "linecolor": "#BCCCDC",
         "showgrid": false,
         "title": {
          "text": "recall"
         }
        }
       }
      }
     },
     "metadata": {},
     "output_type": "display_data"
    },
    {
     "data": {
      "application/vnd.plotly.v1+json": {
       "config": {
        "plotlyServerURL": "https://plot.ly"
       },
       "data": [
        {
         "alignmentgroup": "True",
         "cliponaxis": false,
         "hovertemplate": "precision=%{x}<br>entity=%{y}<br>count=%{marker.color}<extra></extra>",
         "legendgroup": "",
         "marker": {
          "color": [
           9,
           72,
           31,
           17,
           19,
           135,
           598,
           11,
           0,
           0,
           0,
           0,
           317,
           14,
           0,
           1223
          ],
          "coloraxis": "coloraxis",
          "pattern": {
           "shape": ""
          }
         },
         "name": "",
         "offsetgroup": "",
         "orientation": "h",
         "showlegend": false,
         "textangle": 0,
         "textfont": {
          "size": 12
         },
         "textposition": "outside",
         "texttemplate": "%{x:.2}",
         "type": "bar",
         "x": [
          1,
          0.9113924050632911,
          0.896551724137931,
          1,
          0.9,
          0.8707482993197279,
          0.9285714285714286,
          1,
          0,
          0,
          0,
          0,
          0.9830508474576272,
          null,
          0,
          0.9477040816326531
         ],
         "xaxis": "x",
         "y": [
          "EMAIL_ADDRESS",
          "PHONE_NUMBER",
          "DATE_TIME",
          "CREDIT_CARD",
          "AGE",
          "ORGANIZATION",
          "LOCATION",
          "IP_ADDRESS",
          "NATIONALITY",
          "DOMAIN_NAME",
          "IBAN",
          "GPE",
          "PERSON",
          "NRP",
          "ADDRESS",
          "PII"
         ],
         "yaxis": "y"
        }
       ],
       "layout": {
        "annotations": [
         {
          "font": {
           "color": "gray",
           "size": 12
          },
          "showarrow": false,
          "text": "Entity precision values also consider mismatches between different entity types, not just misclassified PII values\n",
          "x": 0.5,
          "xref": "paper",
          "y": 1.1,
          "yref": "paper"
         }
        ],
        "barmode": "group",
        "coloraxis": {
         "colorbar": {
          "title": {
           "text": "count"
          }
         },
         "colorscale": [
          [
           0,
           "#0d0887"
          ],
          [
           0.1111111111111111,
           "#46039f"
          ],
          [
           0.2222222222222222,
           "#7201a8"
          ],
          [
           0.3333333333333333,
           "#9c179e"
          ],
          [
           0.4444444444444444,
           "#bd3786"
          ],
          [
           0.5555555555555556,
           "#d8576b"
          ],
          [
           0.6666666666666666,
           "#ed7953"
          ],
          [
           0.7777777777777778,
           "#fb9f3a"
          ],
          [
           0.8888888888888888,
           "#fdca26"
          ],
          [
           1,
           "#f0f921"
          ]
         ]
        },
        "height": 500,
        "legend": {
         "tracegroupgap": 0
        },
        "plot_bgcolor": "#FFF",
        "template": {
         "data": {
          "bar": [
           {
            "error_x": {
             "color": "#2a3f5f"
            },
            "error_y": {
             "color": "#2a3f5f"
            },
            "marker": {
             "line": {
              "color": "#E5ECF6",
              "width": 0.5
             },
             "pattern": {
              "fillmode": "overlay",
              "size": 10,
              "solidity": 0.2
             }
            },
            "type": "bar"
           }
          ],
          "barpolar": [
           {
            "marker": {
             "line": {
              "color": "#E5ECF6",
              "width": 0.5
             },
             "pattern": {
              "fillmode": "overlay",
              "size": 10,
              "solidity": 0.2
             }
            },
            "type": "barpolar"
           }
          ],
          "carpet": [
           {
            "aaxis": {
             "endlinecolor": "#2a3f5f",
             "gridcolor": "white",
             "linecolor": "white",
             "minorgridcolor": "white",
             "startlinecolor": "#2a3f5f"
            },
            "baxis": {
             "endlinecolor": "#2a3f5f",
             "gridcolor": "white",
             "linecolor": "white",
             "minorgridcolor": "white",
             "startlinecolor": "#2a3f5f"
            },
            "type": "carpet"
           }
          ],
          "choropleth": [
           {
            "colorbar": {
             "outlinewidth": 0,
             "ticks": ""
            },
            "type": "choropleth"
           }
          ],
          "contour": [
           {
            "colorbar": {
             "outlinewidth": 0,
             "ticks": ""
            },
            "colorscale": [
             [
              0,
              "#0d0887"
             ],
             [
              0.1111111111111111,
              "#46039f"
             ],
             [
              0.2222222222222222,
              "#7201a8"
             ],
             [
              0.3333333333333333,
              "#9c179e"
             ],
             [
              0.4444444444444444,
              "#bd3786"
             ],
             [
              0.5555555555555556,
              "#d8576b"
             ],
             [
              0.6666666666666666,
              "#ed7953"
             ],
             [
              0.7777777777777778,
              "#fb9f3a"
             ],
             [
              0.8888888888888888,
              "#fdca26"
             ],
             [
              1,
              "#f0f921"
             ]
            ],
            "type": "contour"
           }
          ],
          "contourcarpet": [
           {
            "colorbar": {
             "outlinewidth": 0,
             "ticks": ""
            },
            "type": "contourcarpet"
           }
          ],
          "heatmap": [
           {
            "colorbar": {
             "outlinewidth": 0,
             "ticks": ""
            },
            "colorscale": [
             [
              0,
              "#0d0887"
             ],
             [
              0.1111111111111111,
              "#46039f"
             ],
             [
              0.2222222222222222,
              "#7201a8"
             ],
             [
              0.3333333333333333,
              "#9c179e"
             ],
             [
              0.4444444444444444,
              "#bd3786"
             ],
             [
              0.5555555555555556,
              "#d8576b"
             ],
             [
              0.6666666666666666,
              "#ed7953"
             ],
             [
              0.7777777777777778,
              "#fb9f3a"
             ],
             [
              0.8888888888888888,
              "#fdca26"
             ],
             [
              1,
              "#f0f921"
             ]
            ],
            "type": "heatmap"
           }
          ],
          "heatmapgl": [
           {
            "colorbar": {
             "outlinewidth": 0,
             "ticks": ""
            },
            "colorscale": [
             [
              0,
              "#0d0887"
             ],
             [
              0.1111111111111111,
              "#46039f"
             ],
             [
              0.2222222222222222,
              "#7201a8"
             ],
             [
              0.3333333333333333,
              "#9c179e"
             ],
             [
              0.4444444444444444,
              "#bd3786"
             ],
             [
              0.5555555555555556,
              "#d8576b"
             ],
             [
              0.6666666666666666,
              "#ed7953"
             ],
             [
              0.7777777777777778,
              "#fb9f3a"
             ],
             [
              0.8888888888888888,
              "#fdca26"
             ],
             [
              1,
              "#f0f921"
             ]
            ],
            "type": "heatmapgl"
           }
          ],
          "histogram": [
           {
            "marker": {
             "pattern": {
              "fillmode": "overlay",
              "size": 10,
              "solidity": 0.2
             }
            },
            "type": "histogram"
           }
          ],
          "histogram2d": [
           {
            "colorbar": {
             "outlinewidth": 0,
             "ticks": ""
            },
            "colorscale": [
             [
              0,
              "#0d0887"
             ],
             [
              0.1111111111111111,
              "#46039f"
             ],
             [
              0.2222222222222222,
              "#7201a8"
             ],
             [
              0.3333333333333333,
              "#9c179e"
             ],
             [
              0.4444444444444444,
              "#bd3786"
             ],
             [
              0.5555555555555556,
              "#d8576b"
             ],
             [
              0.6666666666666666,
              "#ed7953"
             ],
             [
              0.7777777777777778,
              "#fb9f3a"
             ],
             [
              0.8888888888888888,
              "#fdca26"
             ],
             [
              1,
              "#f0f921"
             ]
            ],
            "type": "histogram2d"
           }
          ],
          "histogram2dcontour": [
           {
            "colorbar": {
             "outlinewidth": 0,
             "ticks": ""
            },
            "colorscale": [
             [
              0,
              "#0d0887"
             ],
             [
              0.1111111111111111,
              "#46039f"
             ],
             [
              0.2222222222222222,
              "#7201a8"
             ],
             [
              0.3333333333333333,
              "#9c179e"
             ],
             [
              0.4444444444444444,
              "#bd3786"
             ],
             [
              0.5555555555555556,
              "#d8576b"
             ],
             [
              0.6666666666666666,
              "#ed7953"
             ],
             [
              0.7777777777777778,
              "#fb9f3a"
             ],
             [
              0.8888888888888888,
              "#fdca26"
             ],
             [
              1,
              "#f0f921"
             ]
            ],
            "type": "histogram2dcontour"
           }
          ],
          "mesh3d": [
           {
            "colorbar": {
             "outlinewidth": 0,
             "ticks": ""
            },
            "type": "mesh3d"
           }
          ],
          "parcoords": [
           {
            "line": {
             "colorbar": {
              "outlinewidth": 0,
              "ticks": ""
             }
            },
            "type": "parcoords"
           }
          ],
          "pie": [
           {
            "automargin": true,
            "type": "pie"
           }
          ],
          "scatter": [
           {
            "fillpattern": {
             "fillmode": "overlay",
             "size": 10,
             "solidity": 0.2
            },
            "type": "scatter"
           }
          ],
          "scatter3d": [
           {
            "line": {
             "colorbar": {
              "outlinewidth": 0,
              "ticks": ""
             }
            },
            "marker": {
             "colorbar": {
              "outlinewidth": 0,
              "ticks": ""
             }
            },
            "type": "scatter3d"
           }
          ],
          "scattercarpet": [
           {
            "marker": {
             "colorbar": {
              "outlinewidth": 0,
              "ticks": ""
             }
            },
            "type": "scattercarpet"
           }
          ],
          "scattergeo": [
           {
            "marker": {
             "colorbar": {
              "outlinewidth": 0,
              "ticks": ""
             }
            },
            "type": "scattergeo"
           }
          ],
          "scattergl": [
           {
            "marker": {
             "colorbar": {
              "outlinewidth": 0,
              "ticks": ""
             }
            },
            "type": "scattergl"
           }
          ],
          "scattermapbox": [
           {
            "marker": {
             "colorbar": {
              "outlinewidth": 0,
              "ticks": ""
             }
            },
            "type": "scattermapbox"
           }
          ],
          "scatterpolar": [
           {
            "marker": {
             "colorbar": {
              "outlinewidth": 0,
              "ticks": ""
             }
            },
            "type": "scatterpolar"
           }
          ],
          "scatterpolargl": [
           {
            "marker": {
             "colorbar": {
              "outlinewidth": 0,
              "ticks": ""
             }
            },
            "type": "scatterpolargl"
           }
          ],
          "scatterternary": [
           {
            "marker": {
             "colorbar": {
              "outlinewidth": 0,
              "ticks": ""
             }
            },
            "type": "scatterternary"
           }
          ],
          "surface": [
           {
            "colorbar": {
             "outlinewidth": 0,
             "ticks": ""
            },
            "colorscale": [
             [
              0,
              "#0d0887"
             ],
             [
              0.1111111111111111,
              "#46039f"
             ],
             [
              0.2222222222222222,
              "#7201a8"
             ],
             [
              0.3333333333333333,
              "#9c179e"
             ],
             [
              0.4444444444444444,
              "#bd3786"
             ],
             [
              0.5555555555555556,
              "#d8576b"
             ],
             [
              0.6666666666666666,
              "#ed7953"
             ],
             [
              0.7777777777777778,
              "#fb9f3a"
             ],
             [
              0.8888888888888888,
              "#fdca26"
             ],
             [
              1,
              "#f0f921"
             ]
            ],
            "type": "surface"
           }
          ],
          "table": [
           {
            "cells": {
             "fill": {
              "color": "#EBF0F8"
             },
             "line": {
              "color": "white"
             }
            },
            "header": {
             "fill": {
              "color": "#C8D4E3"
             },
             "line": {
              "color": "white"
             }
            },
            "type": "table"
           }
          ]
         },
         "layout": {
          "annotationdefaults": {
           "arrowcolor": "#2a3f5f",
           "arrowhead": 0,
           "arrowwidth": 1
          },
          "autotypenumbers": "strict",
          "coloraxis": {
           "colorbar": {
            "outlinewidth": 0,
            "ticks": ""
           }
          },
          "colorscale": {
           "diverging": [
            [
             0,
             "#8e0152"
            ],
            [
             0.1,
             "#c51b7d"
            ],
            [
             0.2,
             "#de77ae"
            ],
            [
             0.3,
             "#f1b6da"
            ],
            [
             0.4,
             "#fde0ef"
            ],
            [
             0.5,
             "#f7f7f7"
            ],
            [
             0.6,
             "#e6f5d0"
            ],
            [
             0.7,
             "#b8e186"
            ],
            [
             0.8,
             "#7fbc41"
            ],
            [
             0.9,
             "#4d9221"
            ],
            [
             1,
             "#276419"
            ]
           ],
           "sequential": [
            [
             0,
             "#0d0887"
            ],
            [
             0.1111111111111111,
             "#46039f"
            ],
            [
             0.2222222222222222,
             "#7201a8"
            ],
            [
             0.3333333333333333,
             "#9c179e"
            ],
            [
             0.4444444444444444,
             "#bd3786"
            ],
            [
             0.5555555555555556,
             "#d8576b"
            ],
            [
             0.6666666666666666,
             "#ed7953"
            ],
            [
             0.7777777777777778,
             "#fb9f3a"
            ],
            [
             0.8888888888888888,
             "#fdca26"
            ],
            [
             1,
             "#f0f921"
            ]
           ],
           "sequentialminus": [
            [
             0,
             "#0d0887"
            ],
            [
             0.1111111111111111,
             "#46039f"
            ],
            [
             0.2222222222222222,
             "#7201a8"
            ],
            [
             0.3333333333333333,
             "#9c179e"
            ],
            [
             0.4444444444444444,
             "#bd3786"
            ],
            [
             0.5555555555555556,
             "#d8576b"
            ],
            [
             0.6666666666666666,
             "#ed7953"
            ],
            [
             0.7777777777777778,
             "#fb9f3a"
            ],
            [
             0.8888888888888888,
             "#fdca26"
            ],
            [
             1,
             "#f0f921"
            ]
           ]
          },
          "colorway": [
           "#636efa",
           "#EF553B",
           "#00cc96",
           "#ab63fa",
           "#FFA15A",
           "#19d3f3",
           "#FF6692",
           "#B6E880",
           "#FF97FF",
           "#FECB52"
          ],
          "font": {
           "color": "#2a3f5f"
          },
          "geo": {
           "bgcolor": "white",
           "lakecolor": "white",
           "landcolor": "#E5ECF6",
           "showlakes": true,
           "showland": true,
           "subunitcolor": "white"
          },
          "hoverlabel": {
           "align": "left"
          },
          "hovermode": "closest",
          "mapbox": {
           "style": "light"
          },
          "paper_bgcolor": "white",
          "plot_bgcolor": "#E5ECF6",
          "polar": {
           "angularaxis": {
            "gridcolor": "white",
            "linecolor": "white",
            "ticks": ""
           },
           "bgcolor": "#E5ECF6",
           "radialaxis": {
            "gridcolor": "white",
            "linecolor": "white",
            "ticks": ""
           }
          },
          "scene": {
           "xaxis": {
            "backgroundcolor": "#E5ECF6",
            "gridcolor": "white",
            "gridwidth": 2,
            "linecolor": "white",
            "showbackground": true,
            "ticks": "",
            "zerolinecolor": "white"
           },
           "yaxis": {
            "backgroundcolor": "#E5ECF6",
            "gridcolor": "white",
            "gridwidth": 2,
            "linecolor": "white",
            "showbackground": true,
            "ticks": "",
            "zerolinecolor": "white"
           },
           "zaxis": {
            "backgroundcolor": "#E5ECF6",
            "gridcolor": "white",
            "gridwidth": 2,
            "linecolor": "white",
            "showbackground": true,
            "ticks": "",
            "zerolinecolor": "white"
           }
          },
          "shapedefaults": {
           "line": {
            "color": "#2a3f5f"
           }
          },
          "ternary": {
           "aaxis": {
            "gridcolor": "white",
            "linecolor": "white",
            "ticks": ""
           },
           "baxis": {
            "gridcolor": "white",
            "linecolor": "white",
            "ticks": ""
           },
           "bgcolor": "#E5ECF6",
           "caxis": {
            "gridcolor": "white",
            "linecolor": "white",
            "ticks": ""
           }
          },
          "title": {
           "x": 0.05
          },
          "xaxis": {
           "automargin": true,
           "gridcolor": "white",
           "linecolor": "white",
           "ticks": "",
           "title": {
            "standoff": 15
           },
           "zerolinecolor": "white",
           "zerolinewidth": 2
          },
          "yaxis": {
           "automargin": true,
           "gridcolor": "white",
           "linecolor": "white",
           "ticks": "",
           "title": {
            "standoff": 15
           },
           "zerolinecolor": "white",
           "zerolinewidth": 2
          }
         }
        },
        "title": {
         "text": "Per-entity precision for Presidio Analyzer"
        },
        "xaxis": {
         "anchor": "y",
         "domain": [
          0,
          1
         ],
         "linecolor": "#BCCCDC",
         "showgrid": false,
         "title": {
          "text": "PII entity"
         }
        },
        "yaxis": {
         "anchor": "x",
         "categoryorder": "total ascending",
         "domain": [
          0,
          1
         ],
         "linecolor": "#BCCCDC",
         "showgrid": false,
         "title": {
          "text": "precision"
         }
        }
       }
      }
     },
     "metadata": {},
     "output_type": "display_data"
    }
   ],
   "source": [
    "# Plot output\n",
    "plotter = Plotter(\n",
    "    results=results,\n",
    "    model_name=evaluator.model.name,\n",
    "    # save_as=\"png\",\n",
    "    beta=2,\n",
    ")\n",
    "\n",
    "plotter.plot_scores()"
   ]
  },
  {
   "cell_type": "code",
   "execution_count": 40,
   "id": "a0ddeeea-3ebc-4763-9542-2ca1adfde92c",
   "metadata": {},
   "outputs": [
    {
     "name": "stdout",
     "output_type": "stream",
     "text": [
      "{'PII F': 0.6545102184637068,\n",
      " 'PII precision': 0.9477040816326531,\n",
      " 'PII recall': 0.6075224856909239}\n"
     ]
    }
   ],
   "source": [
    "pprint(\n",
    "    {\n",
    "        \"PII F\": results.pii_f,\n",
    "        \"PII recall\": results.pii_recall,\n",
    "        \"PII precision\": results.pii_precision,\n",
    "    }\n",
    ")"
   ]
  },
  {
   "cell_type": "markdown",
   "id": "9d22f890-fdec-4302-ab16-743005417055",
   "metadata": {},
   "source": [
    "## 8. Error analysis\n",
    "\n",
    "Now let's look into results to understand what's behind the metrics we're getting.\n",
    "Note that evaluation is never perfect. Some things to consider:\n",
    "\n",
    "1. There's often a mismatch between the annotated span and the predicted span, which isn't necessarily a mistake. For example: `<Southern France>` compared with `Southern <France>`. In the second text, the word `Southern` was not annotated/predicted as part of the entity, but that's not necessarily an error.\n",
    "2. Token based evaluation (which is used here) counts the number of true positive / false positive / false negative tokens. Some entities might be broken into more tokens than others. For example, the phone number `222-444-1234` could be broken into five different tokens, whereas `Krishna` would be broken into one token, resulting in phone numbers having more influence on metrics than names.\n",
    "3. The synthetic dataset used here isn't representative of a real dataset. Consider using more realistic datasets for evaluation"
   ]
  },
  {
   "cell_type": "code",
   "execution_count": 41,
   "id": "9a352c1c-4f4f-4fea-b947-1963e29e6f1e",
   "metadata": {},
   "outputs": [
    {
     "data": {
      "application/vnd.plotly.v1+json": {
       "config": {
        "plotlyServerURL": "https://plot.ly"
       },
       "data": [
        {
         "coloraxis": "coloraxis",
         "hovertemplate": "Predicted: %{x}<br>Actual: %{y}<br>Count: %{z}<extra></extra>",
         "name": "0",
         "textfont": {
          "size": 10
         },
         "texttemplate": "%{z}",
         "type": "heatmap",
         "x": [
          "ADDRESS",
          "AGE",
          "CREDIT_CARD",
          "DATE_TIME",
          "DOMAIN_NAME",
          "EMAIL_ADDRESS",
          "GPE",
          "IBAN",
          "IP_ADDRESS",
          "LOCATION",
          "NATIONALITY",
          "NRP",
          "ORGANIZATION",
          "PERSON",
          "PHONE_NUMBER",
          "O",
          "Total"
         ],
         "xaxis": "x",
         "y": [
          "ADDRESS",
          "AGE",
          "CREDIT_CARD",
          "DATE_TIME",
          "DOMAIN_NAME",
          "EMAIL_ADDRESS",
          "GPE",
          "IBAN",
          "IP_ADDRESS",
          "LOCATION",
          "NATIONALITY",
          "NRP",
          "ORGANIZATION",
          "PERSON",
          "PHONE_NUMBER",
          "O",
          "Total"
         ],
         "yaxis": "y",
         "z": [
          [
           0,
           0,
           0,
           0,
           0,
           0,
           0,
           0,
           0,
           0,
           0,
           0,
           0,
           0,
           0,
           0,
           0
          ],
          [
           0,
           18,
           0,
           0,
           0,
           0,
           0,
           0,
           0,
           0,
           0,
           0,
           0,
           0,
           0,
           1,
           19
          ],
          [
           0,
           0,
           17,
           0,
           0,
           0,
           0,
           0,
           0,
           0,
           0,
           0,
           0,
           0,
           0,
           0,
           17
          ],
          [
           0,
           0,
           0,
           26,
           0,
           0,
           0,
           0,
           0,
           0,
           0,
           0,
           0,
           0,
           0,
           5,
           31
          ],
          [
           0,
           0,
           0,
           0,
           0,
           0,
           0,
           0,
           0,
           0,
           0,
           0,
           0,
           0,
           0,
           0,
           0
          ],
          [
           0,
           0,
           0,
           0,
           0,
           9,
           0,
           0,
           0,
           0,
           0,
           0,
           0,
           0,
           0,
           0,
           9
          ],
          [
           0,
           0,
           0,
           0,
           0,
           0,
           0,
           0,
           0,
           0,
           0,
           0,
           0,
           0,
           0,
           0,
           0
          ],
          [
           0,
           0,
           0,
           0,
           0,
           0,
           0,
           0,
           0,
           0,
           0,
           0,
           0,
           0,
           0,
           0,
           0
          ],
          [
           0,
           0,
           0,
           0,
           0,
           0,
           0,
           0,
           11,
           0,
           0,
           0,
           0,
           0,
           0,
           0,
           11
          ],
          [
           3,
           0,
           0,
           0,
           0,
           0,
           137,
           0,
           0,
           13,
           3,
           0,
           7,
           2,
           0,
           433,
           598
          ],
          [
           0,
           0,
           0,
           0,
           0,
           0,
           0,
           0,
           0,
           0,
           0,
           0,
           0,
           0,
           0,
           0,
           0
          ],
          [
           0,
           0,
           0,
           0,
           0,
           0,
           0,
           0,
           0,
           0,
           5,
           0,
           0,
           0,
           0,
           9,
           14
          ],
          [
           0,
           0,
           0,
           0,
           0,
           0,
           0,
           0,
           0,
           0,
           0,
           0,
           128,
           0,
           0,
           7,
           135
          ],
          [
           0,
           0,
           0,
           0,
           0,
           0,
           0,
           0,
           0,
           0,
           0,
           0,
           2,
           290,
           0,
           25,
           317
          ],
          [
           0,
           0,
           0,
           0,
           0,
           0,
           0,
           0,
           0,
           0,
           0,
           0,
           0,
           0,
           72,
           0,
           72
          ],
          [
           0,
           2,
           0,
           3,
           12,
           0,
           2,
           1,
           0,
           1,
           0,
           0,
           10,
           3,
           7,
           4293,
           4334
          ],
          [
           3,
           20,
           17,
           29,
           12,
           9,
           139,
           1,
           11,
           14,
           8,
           0,
           147,
           295,
           79,
           4773,
           5557
          ]
         ]
        }
       ],
       "layout": {
        "coloraxis": {
         "colorbar": {
          "title": {
           "text": "Count"
          }
         },
         "colorscale": [
          [
           0,
           "rgb(247,251,255)"
          ],
          [
           0.125,
           "rgb(222,235,247)"
          ],
          [
           0.25,
           "rgb(198,219,239)"
          ],
          [
           0.375,
           "rgb(158,202,225)"
          ],
          [
           0.5,
           "rgb(107,174,214)"
          ],
          [
           0.625,
           "rgb(66,146,198)"
          ],
          [
           0.75,
           "rgb(33,113,181)"
          ],
          [
           0.875,
           "rgb(8,81,156)"
          ],
          [
           1,
           "rgb(8,48,107)"
          ]
         ]
        },
        "height": 800,
        "template": {
         "data": {
          "bar": [
           {
            "error_x": {
             "color": "#2a3f5f"
            },
            "error_y": {
             "color": "#2a3f5f"
            },
            "marker": {
             "line": {
              "color": "#E5ECF6",
              "width": 0.5
             },
             "pattern": {
              "fillmode": "overlay",
              "size": 10,
              "solidity": 0.2
             }
            },
            "type": "bar"
           }
          ],
          "barpolar": [
           {
            "marker": {
             "line": {
              "color": "#E5ECF6",
              "width": 0.5
             },
             "pattern": {
              "fillmode": "overlay",
              "size": 10,
              "solidity": 0.2
             }
            },
            "type": "barpolar"
           }
          ],
          "carpet": [
           {
            "aaxis": {
             "endlinecolor": "#2a3f5f",
             "gridcolor": "white",
             "linecolor": "white",
             "minorgridcolor": "white",
             "startlinecolor": "#2a3f5f"
            },
            "baxis": {
             "endlinecolor": "#2a3f5f",
             "gridcolor": "white",
             "linecolor": "white",
             "minorgridcolor": "white",
             "startlinecolor": "#2a3f5f"
            },
            "type": "carpet"
           }
          ],
          "choropleth": [
           {
            "colorbar": {
             "outlinewidth": 0,
             "ticks": ""
            },
            "type": "choropleth"
           }
          ],
          "contour": [
           {
            "colorbar": {
             "outlinewidth": 0,
             "ticks": ""
            },
            "colorscale": [
             [
              0,
              "#0d0887"
             ],
             [
              0.1111111111111111,
              "#46039f"
             ],
             [
              0.2222222222222222,
              "#7201a8"
             ],
             [
              0.3333333333333333,
              "#9c179e"
             ],
             [
              0.4444444444444444,
              "#bd3786"
             ],
             [
              0.5555555555555556,
              "#d8576b"
             ],
             [
              0.6666666666666666,
              "#ed7953"
             ],
             [
              0.7777777777777778,
              "#fb9f3a"
             ],
             [
              0.8888888888888888,
              "#fdca26"
             ],
             [
              1,
              "#f0f921"
             ]
            ],
            "type": "contour"
           }
          ],
          "contourcarpet": [
           {
            "colorbar": {
             "outlinewidth": 0,
             "ticks": ""
            },
            "type": "contourcarpet"
           }
          ],
          "heatmap": [
           {
            "colorbar": {
             "outlinewidth": 0,
             "ticks": ""
            },
            "colorscale": [
             [
              0,
              "#0d0887"
             ],
             [
              0.1111111111111111,
              "#46039f"
             ],
             [
              0.2222222222222222,
              "#7201a8"
             ],
             [
              0.3333333333333333,
              "#9c179e"
             ],
             [
              0.4444444444444444,
              "#bd3786"
             ],
             [
              0.5555555555555556,
              "#d8576b"
             ],
             [
              0.6666666666666666,
              "#ed7953"
             ],
             [
              0.7777777777777778,
              "#fb9f3a"
             ],
             [
              0.8888888888888888,
              "#fdca26"
             ],
             [
              1,
              "#f0f921"
             ]
            ],
            "type": "heatmap"
           }
          ],
          "heatmapgl": [
           {
            "colorbar": {
             "outlinewidth": 0,
             "ticks": ""
            },
            "colorscale": [
             [
              0,
              "#0d0887"
             ],
             [
              0.1111111111111111,
              "#46039f"
             ],
             [
              0.2222222222222222,
              "#7201a8"
             ],
             [
              0.3333333333333333,
              "#9c179e"
             ],
             [
              0.4444444444444444,
              "#bd3786"
             ],
             [
              0.5555555555555556,
              "#d8576b"
             ],
             [
              0.6666666666666666,
              "#ed7953"
             ],
             [
              0.7777777777777778,
              "#fb9f3a"
             ],
             [
              0.8888888888888888,
              "#fdca26"
             ],
             [
              1,
              "#f0f921"
             ]
            ],
            "type": "heatmapgl"
           }
          ],
          "histogram": [
           {
            "marker": {
             "pattern": {
              "fillmode": "overlay",
              "size": 10,
              "solidity": 0.2
             }
            },
            "type": "histogram"
           }
          ],
          "histogram2d": [
           {
            "colorbar": {
             "outlinewidth": 0,
             "ticks": ""
            },
            "colorscale": [
             [
              0,
              "#0d0887"
             ],
             [
              0.1111111111111111,
              "#46039f"
             ],
             [
              0.2222222222222222,
              "#7201a8"
             ],
             [
              0.3333333333333333,
              "#9c179e"
             ],
             [
              0.4444444444444444,
              "#bd3786"
             ],
             [
              0.5555555555555556,
              "#d8576b"
             ],
             [
              0.6666666666666666,
              "#ed7953"
             ],
             [
              0.7777777777777778,
              "#fb9f3a"
             ],
             [
              0.8888888888888888,
              "#fdca26"
             ],
             [
              1,
              "#f0f921"
             ]
            ],
            "type": "histogram2d"
           }
          ],
          "histogram2dcontour": [
           {
            "colorbar": {
             "outlinewidth": 0,
             "ticks": ""
            },
            "colorscale": [
             [
              0,
              "#0d0887"
             ],
             [
              0.1111111111111111,
              "#46039f"
             ],
             [
              0.2222222222222222,
              "#7201a8"
             ],
             [
              0.3333333333333333,
              "#9c179e"
             ],
             [
              0.4444444444444444,
              "#bd3786"
             ],
             [
              0.5555555555555556,
              "#d8576b"
             ],
             [
              0.6666666666666666,
              "#ed7953"
             ],
             [
              0.7777777777777778,
              "#fb9f3a"
             ],
             [
              0.8888888888888888,
              "#fdca26"
             ],
             [
              1,
              "#f0f921"
             ]
            ],
            "type": "histogram2dcontour"
           }
          ],
          "mesh3d": [
           {
            "colorbar": {
             "outlinewidth": 0,
             "ticks": ""
            },
            "type": "mesh3d"
           }
          ],
          "parcoords": [
           {
            "line": {
             "colorbar": {
              "outlinewidth": 0,
              "ticks": ""
             }
            },
            "type": "parcoords"
           }
          ],
          "pie": [
           {
            "automargin": true,
            "type": "pie"
           }
          ],
          "scatter": [
           {
            "fillpattern": {
             "fillmode": "overlay",
             "size": 10,
             "solidity": 0.2
            },
            "type": "scatter"
           }
          ],
          "scatter3d": [
           {
            "line": {
             "colorbar": {
              "outlinewidth": 0,
              "ticks": ""
             }
            },
            "marker": {
             "colorbar": {
              "outlinewidth": 0,
              "ticks": ""
             }
            },
            "type": "scatter3d"
           }
          ],
          "scattercarpet": [
           {
            "marker": {
             "colorbar": {
              "outlinewidth": 0,
              "ticks": ""
             }
            },
            "type": "scattercarpet"
           }
          ],
          "scattergeo": [
           {
            "marker": {
             "colorbar": {
              "outlinewidth": 0,
              "ticks": ""
             }
            },
            "type": "scattergeo"
           }
          ],
          "scattergl": [
           {
            "marker": {
             "colorbar": {
              "outlinewidth": 0,
              "ticks": ""
             }
            },
            "type": "scattergl"
           }
          ],
          "scattermapbox": [
           {
            "marker": {
             "colorbar": {
              "outlinewidth": 0,
              "ticks": ""
             }
            },
            "type": "scattermapbox"
           }
          ],
          "scatterpolar": [
           {
            "marker": {
             "colorbar": {
              "outlinewidth": 0,
              "ticks": ""
             }
            },
            "type": "scatterpolar"
           }
          ],
          "scatterpolargl": [
           {
            "marker": {
             "colorbar": {
              "outlinewidth": 0,
              "ticks": ""
             }
            },
            "type": "scatterpolargl"
           }
          ],
          "scatterternary": [
           {
            "marker": {
             "colorbar": {
              "outlinewidth": 0,
              "ticks": ""
             }
            },
            "type": "scatterternary"
           }
          ],
          "surface": [
           {
            "colorbar": {
             "outlinewidth": 0,
             "ticks": ""
            },
            "colorscale": [
             [
              0,
              "#0d0887"
             ],
             [
              0.1111111111111111,
              "#46039f"
             ],
             [
              0.2222222222222222,
              "#7201a8"
             ],
             [
              0.3333333333333333,
              "#9c179e"
             ],
             [
              0.4444444444444444,
              "#bd3786"
             ],
             [
              0.5555555555555556,
              "#d8576b"
             ],
             [
              0.6666666666666666,
              "#ed7953"
             ],
             [
              0.7777777777777778,
              "#fb9f3a"
             ],
             [
              0.8888888888888888,
              "#fdca26"
             ],
             [
              1,
              "#f0f921"
             ]
            ],
            "type": "surface"
           }
          ],
          "table": [
           {
            "cells": {
             "fill": {
              "color": "#EBF0F8"
             },
             "line": {
              "color": "white"
             }
            },
            "header": {
             "fill": {
              "color": "#C8D4E3"
             },
             "line": {
              "color": "white"
             }
            },
            "type": "table"
           }
          ]
         },
         "layout": {
          "annotationdefaults": {
           "arrowcolor": "#2a3f5f",
           "arrowhead": 0,
           "arrowwidth": 1
          },
          "autotypenumbers": "strict",
          "coloraxis": {
           "colorbar": {
            "outlinewidth": 0,
            "ticks": ""
           }
          },
          "colorscale": {
           "diverging": [
            [
             0,
             "#8e0152"
            ],
            [
             0.1,
             "#c51b7d"
            ],
            [
             0.2,
             "#de77ae"
            ],
            [
             0.3,
             "#f1b6da"
            ],
            [
             0.4,
             "#fde0ef"
            ],
            [
             0.5,
             "#f7f7f7"
            ],
            [
             0.6,
             "#e6f5d0"
            ],
            [
             0.7,
             "#b8e186"
            ],
            [
             0.8,
             "#7fbc41"
            ],
            [
             0.9,
             "#4d9221"
            ],
            [
             1,
             "#276419"
            ]
           ],
           "sequential": [
            [
             0,
             "#0d0887"
            ],
            [
             0.1111111111111111,
             "#46039f"
            ],
            [
             0.2222222222222222,
             "#7201a8"
            ],
            [
             0.3333333333333333,
             "#9c179e"
            ],
            [
             0.4444444444444444,
             "#bd3786"
            ],
            [
             0.5555555555555556,
             "#d8576b"
            ],
            [
             0.6666666666666666,
             "#ed7953"
            ],
            [
             0.7777777777777778,
             "#fb9f3a"
            ],
            [
             0.8888888888888888,
             "#fdca26"
            ],
            [
             1,
             "#f0f921"
            ]
           ],
           "sequentialminus": [
            [
             0,
             "#0d0887"
            ],
            [
             0.1111111111111111,
             "#46039f"
            ],
            [
             0.2222222222222222,
             "#7201a8"
            ],
            [
             0.3333333333333333,
             "#9c179e"
            ],
            [
             0.4444444444444444,
             "#bd3786"
            ],
            [
             0.5555555555555556,
             "#d8576b"
            ],
            [
             0.6666666666666666,
             "#ed7953"
            ],
            [
             0.7777777777777778,
             "#fb9f3a"
            ],
            [
             0.8888888888888888,
             "#fdca26"
            ],
            [
             1,
             "#f0f921"
            ]
           ]
          },
          "colorway": [
           "#636efa",
           "#EF553B",
           "#00cc96",
           "#ab63fa",
           "#FFA15A",
           "#19d3f3",
           "#FF6692",
           "#B6E880",
           "#FF97FF",
           "#FECB52"
          ],
          "font": {
           "color": "#2a3f5f"
          },
          "geo": {
           "bgcolor": "white",
           "lakecolor": "white",
           "landcolor": "#E5ECF6",
           "showlakes": true,
           "showland": true,
           "subunitcolor": "white"
          },
          "hoverlabel": {
           "align": "left"
          },
          "hovermode": "closest",
          "mapbox": {
           "style": "light"
          },
          "paper_bgcolor": "white",
          "plot_bgcolor": "#E5ECF6",
          "polar": {
           "angularaxis": {
            "gridcolor": "white",
            "linecolor": "white",
            "ticks": ""
           },
           "bgcolor": "#E5ECF6",
           "radialaxis": {
            "gridcolor": "white",
            "linecolor": "white",
            "ticks": ""
           }
          },
          "scene": {
           "xaxis": {
            "backgroundcolor": "#E5ECF6",
            "gridcolor": "white",
            "gridwidth": 2,
            "linecolor": "white",
            "showbackground": true,
            "ticks": "",
            "zerolinecolor": "white"
           },
           "yaxis": {
            "backgroundcolor": "#E5ECF6",
            "gridcolor": "white",
            "gridwidth": 2,
            "linecolor": "white",
            "showbackground": true,
            "ticks": "",
            "zerolinecolor": "white"
           },
           "zaxis": {
            "backgroundcolor": "#E5ECF6",
            "gridcolor": "white",
            "gridwidth": 2,
            "linecolor": "white",
            "showbackground": true,
            "ticks": "",
            "zerolinecolor": "white"
           }
          },
          "shapedefaults": {
           "line": {
            "color": "#2a3f5f"
           }
          },
          "ternary": {
           "aaxis": {
            "gridcolor": "white",
            "linecolor": "white",
            "ticks": ""
           },
           "baxis": {
            "gridcolor": "white",
            "linecolor": "white",
            "ticks": ""
           },
           "bgcolor": "#E5ECF6",
           "caxis": {
            "gridcolor": "white",
            "linecolor": "white",
            "ticks": ""
           }
          },
          "title": {
           "x": 0.05
          },
          "xaxis": {
           "automargin": true,
           "gridcolor": "white",
           "linecolor": "white",
           "ticks": "",
           "title": {
            "standoff": 15
           },
           "zerolinecolor": "white",
           "zerolinewidth": 2
          },
          "yaxis": {
           "automargin": true,
           "gridcolor": "white",
           "linecolor": "white",
           "ticks": "",
           "title": {
            "standoff": 15
           },
           "zerolinecolor": "white",
           "zerolinewidth": 2
          }
         }
        },
        "title": {
         "text": "Confusion Matrix for model Presidio Analyzer"
        },
        "width": 800,
        "xaxis": {
         "anchor": "y",
         "constrain": "domain",
         "domain": [
          0,
          1
         ],
         "scaleanchor": "y",
         "side": "top",
         "tickangle": 90,
         "title": {
          "standoff": 10,
          "text": "Predicted"
         }
        },
        "yaxis": {
         "anchor": "x",
         "autorange": "reversed",
         "constrain": "domain",
         "domain": [
          0,
          1
         ],
         "title": {
          "text": "Actual"
         }
        }
       }
      }
     },
     "metadata": {},
     "output_type": "display_data"
    }
   ],
   "source": [
    "plotter.plot_confusion_matrix(entities=entities, confmatrix=confmatrix)\n",
    "# plotter.plot_confusion_matrix(entities=entities, confmatrix=confmatrix, save_as=\"png\")"
   ]
  },
  {
   "cell_type": "code",
   "execution_count": 42,
   "id": "cfe3b38d440148cf",
   "metadata": {
    "ExecuteTime": {
     "end_time": "2024-09-19T18:34:25.363401Z",
     "start_time": "2024-09-19T18:34:24.800792Z"
    }
   },
   "outputs": [
    {
     "data": {
      "application/vnd.plotly.v1+json": {
       "config": {
        "plotlyServerURL": "https://plot.ly"
       },
       "data": [
        {
         "alignmentgroup": "True",
         "bingroup": "y",
         "cliponaxis": true,
         "histfunc": "sum",
         "hovertemplate": "annotation=DATE_TIME<br>sum of 0=%{x}<br>token=%{y}<extra></extra>",
         "legendgroup": "DATE_TIME",
         "marker": {
          "color": "#EF553B",
          "pattern": {
           "shape": ""
          }
         },
         "name": "DATE_TIME",
         "offsetgroup": "DATE_TIME",
         "orientation": "h",
         "showlegend": true,
         "textangle": 0,
         "textfont": {
          "size": 8
         },
         "textposition": "outside",
         "texttemplate": "%{value}",
         "type": "histogram",
         "x": [
          2,
          1,
          1,
          1
         ],
         "xaxis": "x",
         "y": [
          "Thursday",
          "1988",
          "2005",
          "2018"
         ],
         "yaxis": "y"
        },
        {
         "alignmentgroup": "True",
         "bingroup": "y",
         "cliponaxis": true,
         "histfunc": "sum",
         "hovertemplate": "annotation=AGE<br>sum of 0=%{x}<br>token=%{y}<extra></extra>",
         "legendgroup": "AGE",
         "marker": {
          "color": "#00cc96",
          "pattern": {
           "shape": ""
          }
         },
         "name": "AGE",
         "offsetgroup": "AGE",
         "orientation": "h",
         "showlegend": true,
         "textangle": 0,
         "textfont": {
          "size": 8
         },
         "textposition": "outside",
         "texttemplate": "%{value}",
         "type": "histogram",
         "x": [
          1
         ],
         "xaxis": "x",
         "y": [
          "65"
         ],
         "yaxis": "y"
        },
        {
         "alignmentgroup": "True",
         "bingroup": "y",
         "cliponaxis": true,
         "histfunc": "sum",
         "hovertemplate": "annotation=ORGANIZATION<br>sum of 0=%{x}<br>token=%{y}<extra></extra>",
         "legendgroup": "ORGANIZATION",
         "marker": {
          "color": "#ab63fa",
          "pattern": {
           "shape": ""
          }
         },
         "name": "ORGANIZATION",
         "offsetgroup": "ORGANIZATION",
         "orientation": "h",
         "showlegend": true,
         "textangle": 0,
         "textfont": {
          "size": 8
         },
         "textposition": "outside",
         "texttemplate": "%{value}",
         "type": "histogram",
         "x": [
          1,
          1,
          1,
          1,
          1
         ],
         "xaxis": "x",
         "y": [
          "Bloomberg",
          "Bridgewater",
          "Incadence",
          "Mint",
          "Panjiva"
         ],
         "yaxis": "y"
        },
        {
         "alignmentgroup": "True",
         "bingroup": "y",
         "cliponaxis": true,
         "histfunc": "sum",
         "hovertemplate": "annotation=LOCATION<br>sum of 0=%{x}<br>token=%{y}<extra></extra>",
         "legendgroup": "LOCATION",
         "marker": {
          "color": "#FFA15A",
          "pattern": {
           "shape": ""
          }
         },
         "name": "LOCATION",
         "offsetgroup": "LOCATION",
         "orientation": "h",
         "showlegend": true,
         "textangle": 0,
         "textfont": {
          "size": 8
         },
         "textposition": "outside",
         "texttemplate": "%{value}",
         "type": "histogram",
         "x": [
          12,
          11,
          9,
          8,
          8
         ],
         "xaxis": "x",
         "y": [
          "Sweden",
          "Cyprus",
          "AA",
          "ESPOO",
          "Republic"
         ],
         "yaxis": "y"
        },
        {
         "alignmentgroup": "True",
         "bingroup": "y",
         "cliponaxis": true,
         "histfunc": "sum",
         "hovertemplate": "annotation=PERSON<br>sum of 0=%{x}<br>token=%{y}<extra></extra>",
         "legendgroup": "PERSON",
         "marker": {
          "color": "#19d3f3",
          "pattern": {
           "shape": ""
          }
         },
         "name": "PERSON",
         "offsetgroup": "PERSON",
         "orientation": "h",
         "showlegend": true,
         "textangle": 0,
         "textfont": {
          "size": 8
         },
         "textposition": "outside",
         "texttemplate": "%{value}",
         "type": "histogram",
         "x": [
          2,
          2,
          2,
          2,
          1
         ],
         "xaxis": "x",
         "y": [
          "Thaddeus",
          "Ronner",
          "Josef",
          "Roeterdink",
          "Adomo"
         ],
         "yaxis": "y"
        },
        {
         "alignmentgroup": "True",
         "bingroup": "y",
         "cliponaxis": true,
         "histfunc": "sum",
         "hovertemplate": "annotation=NRP<br>sum of 0=%{x}<br>token=%{y}<extra></extra>",
         "legendgroup": "NRP",
         "marker": {
          "color": "#FF6692",
          "pattern": {
           "shape": ""
          }
         },
         "name": "NRP",
         "offsetgroup": "NRP",
         "orientation": "h",
         "showlegend": true,
         "textangle": 0,
         "textfont": {
          "size": 8
         },
         "textposition": "outside",
         "texttemplate": "%{value}",
         "type": "histogram",
         "x": [
          3,
          3,
          2,
          2,
          2
         ],
         "xaxis": "x",
         "y": [
          "American",
          "Swedish",
          "Czech",
          "Hungarian",
          "bruneian"
         ],
         "yaxis": "y"
        }
       ],
       "layout": {
        "barmode": "relative",
        "height": 2040,
        "legend": {
         "title": {
          "text": "annotation"
         },
         "tracegroupgap": 0
        },
        "plot_bgcolor": "#FFF",
        "template": {
         "data": {
          "bar": [
           {
            "error_x": {
             "color": "#2a3f5f"
            },
            "error_y": {
             "color": "#2a3f5f"
            },
            "marker": {
             "line": {
              "color": "#E5ECF6",
              "width": 0.5
             },
             "pattern": {
              "fillmode": "overlay",
              "size": 10,
              "solidity": 0.2
             }
            },
            "type": "bar"
           }
          ],
          "barpolar": [
           {
            "marker": {
             "line": {
              "color": "#E5ECF6",
              "width": 0.5
             },
             "pattern": {
              "fillmode": "overlay",
              "size": 10,
              "solidity": 0.2
             }
            },
            "type": "barpolar"
           }
          ],
          "carpet": [
           {
            "aaxis": {
             "endlinecolor": "#2a3f5f",
             "gridcolor": "white",
             "linecolor": "white",
             "minorgridcolor": "white",
             "startlinecolor": "#2a3f5f"
            },
            "baxis": {
             "endlinecolor": "#2a3f5f",
             "gridcolor": "white",
             "linecolor": "white",
             "minorgridcolor": "white",
             "startlinecolor": "#2a3f5f"
            },
            "type": "carpet"
           }
          ],
          "choropleth": [
           {
            "colorbar": {
             "outlinewidth": 0,
             "ticks": ""
            },
            "type": "choropleth"
           }
          ],
          "contour": [
           {
            "colorbar": {
             "outlinewidth": 0,
             "ticks": ""
            },
            "colorscale": [
             [
              0,
              "#0d0887"
             ],
             [
              0.1111111111111111,
              "#46039f"
             ],
             [
              0.2222222222222222,
              "#7201a8"
             ],
             [
              0.3333333333333333,
              "#9c179e"
             ],
             [
              0.4444444444444444,
              "#bd3786"
             ],
             [
              0.5555555555555556,
              "#d8576b"
             ],
             [
              0.6666666666666666,
              "#ed7953"
             ],
             [
              0.7777777777777778,
              "#fb9f3a"
             ],
             [
              0.8888888888888888,
              "#fdca26"
             ],
             [
              1,
              "#f0f921"
             ]
            ],
            "type": "contour"
           }
          ],
          "contourcarpet": [
           {
            "colorbar": {
             "outlinewidth": 0,
             "ticks": ""
            },
            "type": "contourcarpet"
           }
          ],
          "heatmap": [
           {
            "colorbar": {
             "outlinewidth": 0,
             "ticks": ""
            },
            "colorscale": [
             [
              0,
              "#0d0887"
             ],
             [
              0.1111111111111111,
              "#46039f"
             ],
             [
              0.2222222222222222,
              "#7201a8"
             ],
             [
              0.3333333333333333,
              "#9c179e"
             ],
             [
              0.4444444444444444,
              "#bd3786"
             ],
             [
              0.5555555555555556,
              "#d8576b"
             ],
             [
              0.6666666666666666,
              "#ed7953"
             ],
             [
              0.7777777777777778,
              "#fb9f3a"
             ],
             [
              0.8888888888888888,
              "#fdca26"
             ],
             [
              1,
              "#f0f921"
             ]
            ],
            "type": "heatmap"
           }
          ],
          "heatmapgl": [
           {
            "colorbar": {
             "outlinewidth": 0,
             "ticks": ""
            },
            "colorscale": [
             [
              0,
              "#0d0887"
             ],
             [
              0.1111111111111111,
              "#46039f"
             ],
             [
              0.2222222222222222,
              "#7201a8"
             ],
             [
              0.3333333333333333,
              "#9c179e"
             ],
             [
              0.4444444444444444,
              "#bd3786"
             ],
             [
              0.5555555555555556,
              "#d8576b"
             ],
             [
              0.6666666666666666,
              "#ed7953"
             ],
             [
              0.7777777777777778,
              "#fb9f3a"
             ],
             [
              0.8888888888888888,
              "#fdca26"
             ],
             [
              1,
              "#f0f921"
             ]
            ],
            "type": "heatmapgl"
           }
          ],
          "histogram": [
           {
            "marker": {
             "pattern": {
              "fillmode": "overlay",
              "size": 10,
              "solidity": 0.2
             }
            },
            "type": "histogram"
           }
          ],
          "histogram2d": [
           {
            "colorbar": {
             "outlinewidth": 0,
             "ticks": ""
            },
            "colorscale": [
             [
              0,
              "#0d0887"
             ],
             [
              0.1111111111111111,
              "#46039f"
             ],
             [
              0.2222222222222222,
              "#7201a8"
             ],
             [
              0.3333333333333333,
              "#9c179e"
             ],
             [
              0.4444444444444444,
              "#bd3786"
             ],
             [
              0.5555555555555556,
              "#d8576b"
             ],
             [
              0.6666666666666666,
              "#ed7953"
             ],
             [
              0.7777777777777778,
              "#fb9f3a"
             ],
             [
              0.8888888888888888,
              "#fdca26"
             ],
             [
              1,
              "#f0f921"
             ]
            ],
            "type": "histogram2d"
           }
          ],
          "histogram2dcontour": [
           {
            "colorbar": {
             "outlinewidth": 0,
             "ticks": ""
            },
            "colorscale": [
             [
              0,
              "#0d0887"
             ],
             [
              0.1111111111111111,
              "#46039f"
             ],
             [
              0.2222222222222222,
              "#7201a8"
             ],
             [
              0.3333333333333333,
              "#9c179e"
             ],
             [
              0.4444444444444444,
              "#bd3786"
             ],
             [
              0.5555555555555556,
              "#d8576b"
             ],
             [
              0.6666666666666666,
              "#ed7953"
             ],
             [
              0.7777777777777778,
              "#fb9f3a"
             ],
             [
              0.8888888888888888,
              "#fdca26"
             ],
             [
              1,
              "#f0f921"
             ]
            ],
            "type": "histogram2dcontour"
           }
          ],
          "mesh3d": [
           {
            "colorbar": {
             "outlinewidth": 0,
             "ticks": ""
            },
            "type": "mesh3d"
           }
          ],
          "parcoords": [
           {
            "line": {
             "colorbar": {
              "outlinewidth": 0,
              "ticks": ""
             }
            },
            "type": "parcoords"
           }
          ],
          "pie": [
           {
            "automargin": true,
            "type": "pie"
           }
          ],
          "scatter": [
           {
            "fillpattern": {
             "fillmode": "overlay",
             "size": 10,
             "solidity": 0.2
            },
            "type": "scatter"
           }
          ],
          "scatter3d": [
           {
            "line": {
             "colorbar": {
              "outlinewidth": 0,
              "ticks": ""
             }
            },
            "marker": {
             "colorbar": {
              "outlinewidth": 0,
              "ticks": ""
             }
            },
            "type": "scatter3d"
           }
          ],
          "scattercarpet": [
           {
            "marker": {
             "colorbar": {
              "outlinewidth": 0,
              "ticks": ""
             }
            },
            "type": "scattercarpet"
           }
          ],
          "scattergeo": [
           {
            "marker": {
             "colorbar": {
              "outlinewidth": 0,
              "ticks": ""
             }
            },
            "type": "scattergeo"
           }
          ],
          "scattergl": [
           {
            "marker": {
             "colorbar": {
              "outlinewidth": 0,
              "ticks": ""
             }
            },
            "type": "scattergl"
           }
          ],
          "scattermapbox": [
           {
            "marker": {
             "colorbar": {
              "outlinewidth": 0,
              "ticks": ""
             }
            },
            "type": "scattermapbox"
           }
          ],
          "scatterpolar": [
           {
            "marker": {
             "colorbar": {
              "outlinewidth": 0,
              "ticks": ""
             }
            },
            "type": "scatterpolar"
           }
          ],
          "scatterpolargl": [
           {
            "marker": {
             "colorbar": {
              "outlinewidth": 0,
              "ticks": ""
             }
            },
            "type": "scatterpolargl"
           }
          ],
          "scatterternary": [
           {
            "marker": {
             "colorbar": {
              "outlinewidth": 0,
              "ticks": ""
             }
            },
            "type": "scatterternary"
           }
          ],
          "surface": [
           {
            "colorbar": {
             "outlinewidth": 0,
             "ticks": ""
            },
            "colorscale": [
             [
              0,
              "#0d0887"
             ],
             [
              0.1111111111111111,
              "#46039f"
             ],
             [
              0.2222222222222222,
              "#7201a8"
             ],
             [
              0.3333333333333333,
              "#9c179e"
             ],
             [
              0.4444444444444444,
              "#bd3786"
             ],
             [
              0.5555555555555556,
              "#d8576b"
             ],
             [
              0.6666666666666666,
              "#ed7953"
             ],
             [
              0.7777777777777778,
              "#fb9f3a"
             ],
             [
              0.8888888888888888,
              "#fdca26"
             ],
             [
              1,
              "#f0f921"
             ]
            ],
            "type": "surface"
           }
          ],
          "table": [
           {
            "cells": {
             "fill": {
              "color": "#EBF0F8"
             },
             "line": {
              "color": "white"
             }
            },
            "header": {
             "fill": {
              "color": "#C8D4E3"
             },
             "line": {
              "color": "white"
             }
            },
            "type": "table"
           }
          ]
         },
         "layout": {
          "annotationdefaults": {
           "arrowcolor": "#2a3f5f",
           "arrowhead": 0,
           "arrowwidth": 1
          },
          "autotypenumbers": "strict",
          "coloraxis": {
           "colorbar": {
            "outlinewidth": 0,
            "ticks": ""
           }
          },
          "colorscale": {
           "diverging": [
            [
             0,
             "#8e0152"
            ],
            [
             0.1,
             "#c51b7d"
            ],
            [
             0.2,
             "#de77ae"
            ],
            [
             0.3,
             "#f1b6da"
            ],
            [
             0.4,
             "#fde0ef"
            ],
            [
             0.5,
             "#f7f7f7"
            ],
            [
             0.6,
             "#e6f5d0"
            ],
            [
             0.7,
             "#b8e186"
            ],
            [
             0.8,
             "#7fbc41"
            ],
            [
             0.9,
             "#4d9221"
            ],
            [
             1,
             "#276419"
            ]
           ],
           "sequential": [
            [
             0,
             "#0d0887"
            ],
            [
             0.1111111111111111,
             "#46039f"
            ],
            [
             0.2222222222222222,
             "#7201a8"
            ],
            [
             0.3333333333333333,
             "#9c179e"
            ],
            [
             0.4444444444444444,
             "#bd3786"
            ],
            [
             0.5555555555555556,
             "#d8576b"
            ],
            [
             0.6666666666666666,
             "#ed7953"
            ],
            [
             0.7777777777777778,
             "#fb9f3a"
            ],
            [
             0.8888888888888888,
             "#fdca26"
            ],
            [
             1,
             "#f0f921"
            ]
           ],
           "sequentialminus": [
            [
             0,
             "#0d0887"
            ],
            [
             0.1111111111111111,
             "#46039f"
            ],
            [
             0.2222222222222222,
             "#7201a8"
            ],
            [
             0.3333333333333333,
             "#9c179e"
            ],
            [
             0.4444444444444444,
             "#bd3786"
            ],
            [
             0.5555555555555556,
             "#d8576b"
            ],
            [
             0.6666666666666666,
             "#ed7953"
            ],
            [
             0.7777777777777778,
             "#fb9f3a"
            ],
            [
             0.8888888888888888,
             "#fdca26"
            ],
            [
             1,
             "#f0f921"
            ]
           ]
          },
          "colorway": [
           "#636efa",
           "#EF553B",
           "#00cc96",
           "#ab63fa",
           "#FFA15A",
           "#19d3f3",
           "#FF6692",
           "#B6E880",
           "#FF97FF",
           "#FECB52"
          ],
          "font": {
           "color": "#2a3f5f"
          },
          "geo": {
           "bgcolor": "white",
           "lakecolor": "white",
           "landcolor": "#E5ECF6",
           "showlakes": true,
           "showland": true,
           "subunitcolor": "white"
          },
          "hoverlabel": {
           "align": "left"
          },
          "hovermode": "closest",
          "mapbox": {
           "style": "light"
          },
          "paper_bgcolor": "white",
          "plot_bgcolor": "#E5ECF6",
          "polar": {
           "angularaxis": {
            "gridcolor": "white",
            "linecolor": "white",
            "ticks": ""
           },
           "bgcolor": "#E5ECF6",
           "radialaxis": {
            "gridcolor": "white",
            "linecolor": "white",
            "ticks": ""
           }
          },
          "scene": {
           "xaxis": {
            "backgroundcolor": "#E5ECF6",
            "gridcolor": "white",
            "gridwidth": 2,
            "linecolor": "white",
            "showbackground": true,
            "ticks": "",
            "zerolinecolor": "white"
           },
           "yaxis": {
            "backgroundcolor": "#E5ECF6",
            "gridcolor": "white",
            "gridwidth": 2,
            "linecolor": "white",
            "showbackground": true,
            "ticks": "",
            "zerolinecolor": "white"
           },
           "zaxis": {
            "backgroundcolor": "#E5ECF6",
            "gridcolor": "white",
            "gridwidth": 2,
            "linecolor": "white",
            "showbackground": true,
            "ticks": "",
            "zerolinecolor": "white"
           }
          },
          "shapedefaults": {
           "line": {
            "color": "#2a3f5f"
           }
          },
          "ternary": {
           "aaxis": {
            "gridcolor": "white",
            "linecolor": "white",
            "ticks": ""
           },
           "baxis": {
            "gridcolor": "white",
            "linecolor": "white",
            "ticks": ""
           },
           "bgcolor": "#E5ECF6",
           "caxis": {
            "gridcolor": "white",
            "linecolor": "white",
            "ticks": ""
           }
          },
          "title": {
           "x": 0.05
          },
          "xaxis": {
           "automargin": true,
           "gridcolor": "white",
           "linecolor": "white",
           "ticks": "",
           "title": {
            "standoff": 15
           },
           "zerolinecolor": "white",
           "zerolinewidth": 2
          },
          "yaxis": {
           "automargin": true,
           "gridcolor": "white",
           "linecolor": "white",
           "ticks": "",
           "title": {
            "standoff": 15
           },
           "zerolinecolor": "white",
           "zerolinewidth": 2
          }
         }
        },
        "title": {
         "text": "Most common false-negatives tokens"
        },
        "xaxis": {
         "anchor": "y",
         "domain": [
          0,
          1
         ],
         "linecolor": "#BCCCDC",
         "showgrid": false,
         "title": {
          "text": "Count"
         }
        },
        "yaxis": {
         "anchor": "x",
         "categoryorder": "total ascending",
         "domain": [
          0,
          1
         ],
         "linecolor": "#BCCCDC",
         "showgrid": false,
         "title": {
          "text": "Tokens"
         }
        }
       }
      }
     },
     "metadata": {},
     "output_type": "display_data"
    },
    {
     "data": {
      "application/vnd.plotly.v1+json": {
       "config": {
        "plotlyServerURL": "https://plot.ly"
       },
       "data": [
        {
         "alignmentgroup": "True",
         "bingroup": "y",
         "cliponaxis": true,
         "histfunc": "sum",
         "hovertemplate": "prediction=ADDRESS<br>sum of 0=%{x}<br>token=%{y}<extra></extra>",
         "legendgroup": "ADDRESS",
         "marker": {
          "color": "#636efa",
          "pattern": {
           "shape": ""
          }
         },
         "name": "ADDRESS",
         "offsetgroup": "ADDRESS",
         "orientation": "h",
         "showlegend": true,
         "textangle": 0,
         "textfont": {
          "size": 8
         },
         "textposition": "outside",
         "texttemplate": "%{value}",
         "type": "histogram",
         "x": [
          2,
          2,
          2,
          2,
          2,
          2,
          2,
          2,
          2
         ],
         "xaxis": "x",
         "y": [
          "70489",
          "AA",
          "FPO",
          "70489",
          "AA",
          "FPO",
          "70489",
          "AA",
          "FPO"
         ],
         "yaxis": "y"
        },
        {
         "alignmentgroup": "True",
         "bingroup": "y",
         "cliponaxis": true,
         "histfunc": "sum",
         "hovertemplate": "prediction=PHONE_NUMBER<br>sum of 0=%{x}<br>token=%{y}<extra></extra>",
         "legendgroup": "PHONE_NUMBER",
         "marker": {
          "color": "#EF553B",
          "pattern": {
           "shape": ""
          }
         },
         "name": "PHONE_NUMBER",
         "offsetgroup": "PHONE_NUMBER",
         "orientation": "h",
         "showlegend": true,
         "textangle": 0,
         "textfont": {
          "size": 8
         },
         "textposition": "outside",
         "texttemplate": "%{value}",
         "type": "histogram",
         "x": [
          2,
          2,
          2,
          1
         ],
         "xaxis": "x",
         "y": [
          "fax",
          "mobile",
          "office",
          "Fax"
         ],
         "yaxis": "y"
        },
        {
         "alignmentgroup": "True",
         "bingroup": "y",
         "cliponaxis": true,
         "histfunc": "sum",
         "hovertemplate": "prediction=DATE_TIME<br>sum of 0=%{x}<br>token=%{y}<extra></extra>",
         "legendgroup": "DATE_TIME",
         "marker": {
          "color": "#00cc96",
          "pattern": {
           "shape": ""
          }
         },
         "name": "DATE_TIME",
         "offsetgroup": "DATE_TIME",
         "orientation": "h",
         "showlegend": true,
         "textangle": 0,
         "textfont": {
          "size": 8
         },
         "textposition": "outside",
         "texttemplate": "%{value}",
         "type": "histogram",
         "x": [
          2,
          1
         ],
         "xaxis": "x",
         "y": [
          "Labor",
          "Sunday"
         ],
         "yaxis": "y"
        },
        {
         "alignmentgroup": "True",
         "bingroup": "y",
         "cliponaxis": true,
         "histfunc": "sum",
         "hovertemplate": "prediction=AGE<br>sum of 0=%{x}<br>token=%{y}<extra></extra>",
         "legendgroup": "AGE",
         "marker": {
          "color": "#ab63fa",
          "pattern": {
           "shape": ""
          }
         },
         "name": "AGE",
         "offsetgroup": "AGE",
         "orientation": "h",
         "showlegend": true,
         "textangle": 0,
         "textfont": {
          "size": 8
         },
         "textposition": "outside",
         "texttemplate": "%{value}",
         "type": "histogram",
         "x": [
          1,
          1
         ],
         "xaxis": "x",
         "y": [
          "o.",
          "y"
         ],
         "yaxis": "y"
        },
        {
         "alignmentgroup": "True",
         "bingroup": "y",
         "cliponaxis": true,
         "histfunc": "sum",
         "hovertemplate": "prediction=ORGANIZATION<br>sum of 0=%{x}<br>token=%{y}<extra></extra>",
         "legendgroup": "ORGANIZATION",
         "marker": {
          "color": "#FFA15A",
          "pattern": {
           "shape": ""
          }
         },
         "name": "ORGANIZATION",
         "offsetgroup": "ORGANIZATION",
         "orientation": "h",
         "showlegend": true,
         "textangle": 0,
         "textfont": {
          "size": 8
         },
         "textposition": "outside",
         "texttemplate": "%{value}",
         "type": "histogram",
         "x": [
          4,
          2,
          2,
          2,
          2
         ],
         "xaxis": "x",
         "y": [
          "University",
          "BASHALL",
          "KVALØYSLETTA",
          "Orchestra",
          "PORVOO"
         ],
         "yaxis": "y"
        },
        {
         "alignmentgroup": "True",
         "bingroup": "y",
         "cliponaxis": true,
         "histfunc": "sum",
         "hovertemplate": "prediction=LOCATION<br>sum of 0=%{x}<br>token=%{y}<extra></extra>",
         "legendgroup": "LOCATION",
         "marker": {
          "color": "#19d3f3",
          "pattern": {
           "shape": ""
          }
         },
         "name": "LOCATION",
         "offsetgroup": "LOCATION",
         "orientation": "h",
         "showlegend": true,
         "textangle": 0,
         "textfont": {
          "size": 8
         },
         "textposition": "outside",
         "texttemplate": "%{value}",
         "type": "histogram",
         "x": [
          1
         ],
         "xaxis": "x",
         "y": [
          "1426"
         ],
         "yaxis": "y"
        },
        {
         "alignmentgroup": "True",
         "bingroup": "y",
         "cliponaxis": true,
         "histfunc": "sum",
         "hovertemplate": "prediction=NATIONALITY<br>sum of 0=%{x}<br>token=%{y}<extra></extra>",
         "legendgroup": "NATIONALITY",
         "marker": {
          "color": "#FF6692",
          "pattern": {
           "shape": ""
          }
         },
         "name": "NATIONALITY",
         "offsetgroup": "NATIONALITY",
         "orientation": "h",
         "showlegend": true,
         "textangle": 0,
         "textfont": {
          "size": 8
         },
         "textposition": "outside",
         "texttemplate": "%{value}",
         "type": "histogram",
         "x": [
          2,
          2,
          2,
          2,
          2
         ],
         "xaxis": "x",
         "y": [
          "American",
          "Greek",
          "Greenlander",
          "Hungarian",
          "Norway"
         ],
         "yaxis": "y"
        },
        {
         "alignmentgroup": "True",
         "bingroup": "y",
         "cliponaxis": true,
         "histfunc": "sum",
         "hovertemplate": "prediction=DOMAIN_NAME<br>sum of 0=%{x}<br>token=%{y}<extra></extra>",
         "legendgroup": "DOMAIN_NAME",
         "marker": {
          "color": "#B6E880",
          "pattern": {
           "shape": ""
          }
         },
         "name": "DOMAIN_NAME",
         "offsetgroup": "DOMAIN_NAME",
         "orientation": "h",
         "showlegend": true,
         "textangle": 0,
         "textfont": {
          "size": 8
         },
         "textposition": "outside",
         "texttemplate": "%{value}",
         "type": "histogram",
         "x": [
          1,
          1,
          1,
          1,
          1
         ],
         "xaxis": "x",
         "y": [
          "http://PoolVendor.be/",
          "http://StellarListings.es/",
          "http://www.FrugalFurnishings.de/",
          "http://www.GoalForum.com.au/",
          "http://www.GreenScrapbooking.dk/"
         ],
         "yaxis": "y"
        },
        {
         "alignmentgroup": "True",
         "bingroup": "y",
         "cliponaxis": true,
         "histfunc": "sum",
         "hovertemplate": "prediction=IBAN<br>sum of 0=%{x}<br>token=%{y}<extra></extra>",
         "legendgroup": "IBAN",
         "marker": {
          "color": "#FF97FF",
          "pattern": {
           "shape": ""
          }
         },
         "name": "IBAN",
         "offsetgroup": "IBAN",
         "orientation": "h",
         "showlegend": true,
         "textangle": 0,
         "textfont": {
          "size": 8
         },
         "textposition": "outside",
         "texttemplate": "%{value}",
         "type": "histogram",
         "x": [
          1
         ],
         "xaxis": "x",
         "y": [
          "GB85QZXO20740530696990"
         ],
         "yaxis": "y"
        },
        {
         "alignmentgroup": "True",
         "bingroup": "y",
         "cliponaxis": true,
         "histfunc": "sum",
         "hovertemplate": "prediction=GPE<br>sum of 0=%{x}<br>token=%{y}<extra></extra>",
         "legendgroup": "GPE",
         "marker": {
          "color": "#FECB52",
          "pattern": {
           "shape": ""
          }
         },
         "name": "GPE",
         "offsetgroup": "GPE",
         "orientation": "h",
         "showlegend": true,
         "textangle": 0,
         "textfont": {
          "size": 8
         },
         "textposition": "outside",
         "texttemplate": "%{value}",
         "type": "histogram",
         "x": [
          12,
          10,
          8,
          8,
          8
         ],
         "xaxis": "x",
         "y": [
          "Sweden",
          "Cyprus",
          "Czech",
          "Spain",
          "Republic"
         ],
         "yaxis": "y"
        },
        {
         "alignmentgroup": "True",
         "bingroup": "y",
         "cliponaxis": true,
         "histfunc": "sum",
         "hovertemplate": "prediction=PERSON<br>sum of 0=%{x}<br>token=%{y}<extra></extra>",
         "legendgroup": "PERSON",
         "marker": {
          "color": "#636efa",
          "pattern": {
           "shape": ""
          }
         },
         "name": "PERSON",
         "offsetgroup": "PERSON",
         "orientation": "h",
         "showlegend": true,
         "textangle": 0,
         "textfont": {
          "size": 8
         },
         "textposition": "outside",
         "texttemplate": "%{value}",
         "type": "histogram",
         "x": [
          2,
          2,
          2,
          1
         ],
         "xaxis": "x",
         "y": [
          "Dr.",
          "Sekerková",
          "USNS",
          "Ms."
         ],
         "yaxis": "y"
        }
       ],
       "layout": {
        "barmode": "relative",
        "height": 1290,
        "legend": {
         "title": {
          "text": "prediction"
         },
         "tracegroupgap": 0
        },
        "plot_bgcolor": "#FFF",
        "template": {
         "data": {
          "bar": [
           {
            "error_x": {
             "color": "#2a3f5f"
            },
            "error_y": {
             "color": "#2a3f5f"
            },
            "marker": {
             "line": {
              "color": "#E5ECF6",
              "width": 0.5
             },
             "pattern": {
              "fillmode": "overlay",
              "size": 10,
              "solidity": 0.2
             }
            },
            "type": "bar"
           }
          ],
          "barpolar": [
           {
            "marker": {
             "line": {
              "color": "#E5ECF6",
              "width": 0.5
             },
             "pattern": {
              "fillmode": "overlay",
              "size": 10,
              "solidity": 0.2
             }
            },
            "type": "barpolar"
           }
          ],
          "carpet": [
           {
            "aaxis": {
             "endlinecolor": "#2a3f5f",
             "gridcolor": "white",
             "linecolor": "white",
             "minorgridcolor": "white",
             "startlinecolor": "#2a3f5f"
            },
            "baxis": {
             "endlinecolor": "#2a3f5f",
             "gridcolor": "white",
             "linecolor": "white",
             "minorgridcolor": "white",
             "startlinecolor": "#2a3f5f"
            },
            "type": "carpet"
           }
          ],
          "choropleth": [
           {
            "colorbar": {
             "outlinewidth": 0,
             "ticks": ""
            },
            "type": "choropleth"
           }
          ],
          "contour": [
           {
            "colorbar": {
             "outlinewidth": 0,
             "ticks": ""
            },
            "colorscale": [
             [
              0,
              "#0d0887"
             ],
             [
              0.1111111111111111,
              "#46039f"
             ],
             [
              0.2222222222222222,
              "#7201a8"
             ],
             [
              0.3333333333333333,
              "#9c179e"
             ],
             [
              0.4444444444444444,
              "#bd3786"
             ],
             [
              0.5555555555555556,
              "#d8576b"
             ],
             [
              0.6666666666666666,
              "#ed7953"
             ],
             [
              0.7777777777777778,
              "#fb9f3a"
             ],
             [
              0.8888888888888888,
              "#fdca26"
             ],
             [
              1,
              "#f0f921"
             ]
            ],
            "type": "contour"
           }
          ],
          "contourcarpet": [
           {
            "colorbar": {
             "outlinewidth": 0,
             "ticks": ""
            },
            "type": "contourcarpet"
           }
          ],
          "heatmap": [
           {
            "colorbar": {
             "outlinewidth": 0,
             "ticks": ""
            },
            "colorscale": [
             [
              0,
              "#0d0887"
             ],
             [
              0.1111111111111111,
              "#46039f"
             ],
             [
              0.2222222222222222,
              "#7201a8"
             ],
             [
              0.3333333333333333,
              "#9c179e"
             ],
             [
              0.4444444444444444,
              "#bd3786"
             ],
             [
              0.5555555555555556,
              "#d8576b"
             ],
             [
              0.6666666666666666,
              "#ed7953"
             ],
             [
              0.7777777777777778,
              "#fb9f3a"
             ],
             [
              0.8888888888888888,
              "#fdca26"
             ],
             [
              1,
              "#f0f921"
             ]
            ],
            "type": "heatmap"
           }
          ],
          "heatmapgl": [
           {
            "colorbar": {
             "outlinewidth": 0,
             "ticks": ""
            },
            "colorscale": [
             [
              0,
              "#0d0887"
             ],
             [
              0.1111111111111111,
              "#46039f"
             ],
             [
              0.2222222222222222,
              "#7201a8"
             ],
             [
              0.3333333333333333,
              "#9c179e"
             ],
             [
              0.4444444444444444,
              "#bd3786"
             ],
             [
              0.5555555555555556,
              "#d8576b"
             ],
             [
              0.6666666666666666,
              "#ed7953"
             ],
             [
              0.7777777777777778,
              "#fb9f3a"
             ],
             [
              0.8888888888888888,
              "#fdca26"
             ],
             [
              1,
              "#f0f921"
             ]
            ],
            "type": "heatmapgl"
           }
          ],
          "histogram": [
           {
            "marker": {
             "pattern": {
              "fillmode": "overlay",
              "size": 10,
              "solidity": 0.2
             }
            },
            "type": "histogram"
           }
          ],
          "histogram2d": [
           {
            "colorbar": {
             "outlinewidth": 0,
             "ticks": ""
            },
            "colorscale": [
             [
              0,
              "#0d0887"
             ],
             [
              0.1111111111111111,
              "#46039f"
             ],
             [
              0.2222222222222222,
              "#7201a8"
             ],
             [
              0.3333333333333333,
              "#9c179e"
             ],
             [
              0.4444444444444444,
              "#bd3786"
             ],
             [
              0.5555555555555556,
              "#d8576b"
             ],
             [
              0.6666666666666666,
              "#ed7953"
             ],
             [
              0.7777777777777778,
              "#fb9f3a"
             ],
             [
              0.8888888888888888,
              "#fdca26"
             ],
             [
              1,
              "#f0f921"
             ]
            ],
            "type": "histogram2d"
           }
          ],
          "histogram2dcontour": [
           {
            "colorbar": {
             "outlinewidth": 0,
             "ticks": ""
            },
            "colorscale": [
             [
              0,
              "#0d0887"
             ],
             [
              0.1111111111111111,
              "#46039f"
             ],
             [
              0.2222222222222222,
              "#7201a8"
             ],
             [
              0.3333333333333333,
              "#9c179e"
             ],
             [
              0.4444444444444444,
              "#bd3786"
             ],
             [
              0.5555555555555556,
              "#d8576b"
             ],
             [
              0.6666666666666666,
              "#ed7953"
             ],
             [
              0.7777777777777778,
              "#fb9f3a"
             ],
             [
              0.8888888888888888,
              "#fdca26"
             ],
             [
              1,
              "#f0f921"
             ]
            ],
            "type": "histogram2dcontour"
           }
          ],
          "mesh3d": [
           {
            "colorbar": {
             "outlinewidth": 0,
             "ticks": ""
            },
            "type": "mesh3d"
           }
          ],
          "parcoords": [
           {
            "line": {
             "colorbar": {
              "outlinewidth": 0,
              "ticks": ""
             }
            },
            "type": "parcoords"
           }
          ],
          "pie": [
           {
            "automargin": true,
            "type": "pie"
           }
          ],
          "scatter": [
           {
            "fillpattern": {
             "fillmode": "overlay",
             "size": 10,
             "solidity": 0.2
            },
            "type": "scatter"
           }
          ],
          "scatter3d": [
           {
            "line": {
             "colorbar": {
              "outlinewidth": 0,
              "ticks": ""
             }
            },
            "marker": {
             "colorbar": {
              "outlinewidth": 0,
              "ticks": ""
             }
            },
            "type": "scatter3d"
           }
          ],
          "scattercarpet": [
           {
            "marker": {
             "colorbar": {
              "outlinewidth": 0,
              "ticks": ""
             }
            },
            "type": "scattercarpet"
           }
          ],
          "scattergeo": [
           {
            "marker": {
             "colorbar": {
              "outlinewidth": 0,
              "ticks": ""
             }
            },
            "type": "scattergeo"
           }
          ],
          "scattergl": [
           {
            "marker": {
             "colorbar": {
              "outlinewidth": 0,
              "ticks": ""
             }
            },
            "type": "scattergl"
           }
          ],
          "scattermapbox": [
           {
            "marker": {
             "colorbar": {
              "outlinewidth": 0,
              "ticks": ""
             }
            },
            "type": "scattermapbox"
           }
          ],
          "scatterpolar": [
           {
            "marker": {
             "colorbar": {
              "outlinewidth": 0,
              "ticks": ""
             }
            },
            "type": "scatterpolar"
           }
          ],
          "scatterpolargl": [
           {
            "marker": {
             "colorbar": {
              "outlinewidth": 0,
              "ticks": ""
             }
            },
            "type": "scatterpolargl"
           }
          ],
          "scatterternary": [
           {
            "marker": {
             "colorbar": {
              "outlinewidth": 0,
              "ticks": ""
             }
            },
            "type": "scatterternary"
           }
          ],
          "surface": [
           {
            "colorbar": {
             "outlinewidth": 0,
             "ticks": ""
            },
            "colorscale": [
             [
              0,
              "#0d0887"
             ],
             [
              0.1111111111111111,
              "#46039f"
             ],
             [
              0.2222222222222222,
              "#7201a8"
             ],
             [
              0.3333333333333333,
              "#9c179e"
             ],
             [
              0.4444444444444444,
              "#bd3786"
             ],
             [
              0.5555555555555556,
              "#d8576b"
             ],
             [
              0.6666666666666666,
              "#ed7953"
             ],
             [
              0.7777777777777778,
              "#fb9f3a"
             ],
             [
              0.8888888888888888,
              "#fdca26"
             ],
             [
              1,
              "#f0f921"
             ]
            ],
            "type": "surface"
           }
          ],
          "table": [
           {
            "cells": {
             "fill": {
              "color": "#EBF0F8"
             },
             "line": {
              "color": "white"
             }
            },
            "header": {
             "fill": {
              "color": "#C8D4E3"
             },
             "line": {
              "color": "white"
             }
            },
            "type": "table"
           }
          ]
         },
         "layout": {
          "annotationdefaults": {
           "arrowcolor": "#2a3f5f",
           "arrowhead": 0,
           "arrowwidth": 1
          },
          "autotypenumbers": "strict",
          "coloraxis": {
           "colorbar": {
            "outlinewidth": 0,
            "ticks": ""
           }
          },
          "colorscale": {
           "diverging": [
            [
             0,
             "#8e0152"
            ],
            [
             0.1,
             "#c51b7d"
            ],
            [
             0.2,
             "#de77ae"
            ],
            [
             0.3,
             "#f1b6da"
            ],
            [
             0.4,
             "#fde0ef"
            ],
            [
             0.5,
             "#f7f7f7"
            ],
            [
             0.6,
             "#e6f5d0"
            ],
            [
             0.7,
             "#b8e186"
            ],
            [
             0.8,
             "#7fbc41"
            ],
            [
             0.9,
             "#4d9221"
            ],
            [
             1,
             "#276419"
            ]
           ],
           "sequential": [
            [
             0,
             "#0d0887"
            ],
            [
             0.1111111111111111,
             "#46039f"
            ],
            [
             0.2222222222222222,
             "#7201a8"
            ],
            [
             0.3333333333333333,
             "#9c179e"
            ],
            [
             0.4444444444444444,
             "#bd3786"
            ],
            [
             0.5555555555555556,
             "#d8576b"
            ],
            [
             0.6666666666666666,
             "#ed7953"
            ],
            [
             0.7777777777777778,
             "#fb9f3a"
            ],
            [
             0.8888888888888888,
             "#fdca26"
            ],
            [
             1,
             "#f0f921"
            ]
           ],
           "sequentialminus": [
            [
             0,
             "#0d0887"
            ],
            [
             0.1111111111111111,
             "#46039f"
            ],
            [
             0.2222222222222222,
             "#7201a8"
            ],
            [
             0.3333333333333333,
             "#9c179e"
            ],
            [
             0.4444444444444444,
             "#bd3786"
            ],
            [
             0.5555555555555556,
             "#d8576b"
            ],
            [
             0.6666666666666666,
             "#ed7953"
            ],
            [
             0.7777777777777778,
             "#fb9f3a"
            ],
            [
             0.8888888888888888,
             "#fdca26"
            ],
            [
             1,
             "#f0f921"
            ]
           ]
          },
          "colorway": [
           "#636efa",
           "#EF553B",
           "#00cc96",
           "#ab63fa",
           "#FFA15A",
           "#19d3f3",
           "#FF6692",
           "#B6E880",
           "#FF97FF",
           "#FECB52"
          ],
          "font": {
           "color": "#2a3f5f"
          },
          "geo": {
           "bgcolor": "white",
           "lakecolor": "white",
           "landcolor": "#E5ECF6",
           "showlakes": true,
           "showland": true,
           "subunitcolor": "white"
          },
          "hoverlabel": {
           "align": "left"
          },
          "hovermode": "closest",
          "mapbox": {
           "style": "light"
          },
          "paper_bgcolor": "white",
          "plot_bgcolor": "#E5ECF6",
          "polar": {
           "angularaxis": {
            "gridcolor": "white",
            "linecolor": "white",
            "ticks": ""
           },
           "bgcolor": "#E5ECF6",
           "radialaxis": {
            "gridcolor": "white",
            "linecolor": "white",
            "ticks": ""
           }
          },
          "scene": {
           "xaxis": {
            "backgroundcolor": "#E5ECF6",
            "gridcolor": "white",
            "gridwidth": 2,
            "linecolor": "white",
            "showbackground": true,
            "ticks": "",
            "zerolinecolor": "white"
           },
           "yaxis": {
            "backgroundcolor": "#E5ECF6",
            "gridcolor": "white",
            "gridwidth": 2,
            "linecolor": "white",
            "showbackground": true,
            "ticks": "",
            "zerolinecolor": "white"
           },
           "zaxis": {
            "backgroundcolor": "#E5ECF6",
            "gridcolor": "white",
            "gridwidth": 2,
            "linecolor": "white",
            "showbackground": true,
            "ticks": "",
            "zerolinecolor": "white"
           }
          },
          "shapedefaults": {
           "line": {
            "color": "#2a3f5f"
           }
          },
          "ternary": {
           "aaxis": {
            "gridcolor": "white",
            "linecolor": "white",
            "ticks": ""
           },
           "baxis": {
            "gridcolor": "white",
            "linecolor": "white",
            "ticks": ""
           },
           "bgcolor": "#E5ECF6",
           "caxis": {
            "gridcolor": "white",
            "linecolor": "white",
            "ticks": ""
           }
          },
          "title": {
           "x": 0.05
          },
          "xaxis": {
           "automargin": true,
           "gridcolor": "white",
           "linecolor": "white",
           "ticks": "",
           "title": {
            "standoff": 15
           },
           "zerolinecolor": "white",
           "zerolinewidth": 2
          },
          "yaxis": {
           "automargin": true,
           "gridcolor": "white",
           "linecolor": "white",
           "ticks": "",
           "title": {
            "standoff": 15
           },
           "zerolinecolor": "white",
           "zerolinewidth": 2
          }
         }
        },
        "title": {
         "text": "Most common false-positives tokens"
        },
        "xaxis": {
         "anchor": "y",
         "domain": [
          0,
          1
         ],
         "linecolor": "#BCCCDC",
         "showgrid": false,
         "title": {
          "text": "Count"
         }
        },
        "yaxis": {
         "anchor": "x",
         "categoryorder": "total ascending",
         "domain": [
          0,
          1
         ],
         "linecolor": "#BCCCDC",
         "showgrid": false,
         "title": {
          "text": "Tokens"
         }
        }
       }
      }
     },
     "metadata": {},
     "output_type": "display_data"
    }
   ],
   "source": [
    "plotter.plot_most_common_tokens()"
   ]
  },
  {
   "cell_type": "markdown",
   "id": "819eb905",
   "metadata": {},
   "source": [
    "### 7a. False positives\n",
    "#### Most common false positive tokens:"
   ]
  },
  {
   "cell_type": "code",
   "execution_count": 43,
   "id": "640037af",
   "metadata": {
    "ExecuteTime": {
     "end_time": "2024-09-19T18:14:13.476011Z",
     "start_time": "2024-09-19T18:14:13.408070Z"
    }
   },
   "outputs": [
    {
     "name": "stdout",
     "output_type": "stream",
     "text": [
      "Most common false positive tokens:\n",
      "[('Sweden', 6),\n",
      " ('Cyprus', 5),\n",
      " ('University', 4),\n",
      " ('ESPOO', 4),\n",
      " ('Czech', 4),\n",
      " ('Republic', 4),\n",
      " ('Spain', 4),\n",
      " ('AA', 3),\n",
      " ('Austria', 3),\n",
      " ('Italy', 3)]\n",
      "---------------\n",
      "Example sentence with each FP token:\n",
      "\t- Dataweave\n",
      "\n",
      "Fuglie 41 Popović Dam\n",
      " Suite 860\n",
      " UPPLANDS VÄSBY\n",
      " Sweden 56687 (`Sweden` pred as GPE)\n",
      "\t- Please return to 94941 2505 Heatherleigh Suite 620 Apt. 581, ΠΑΦΟΣ, Cyprus (Greek) 13475 in case of an issue. (`Cyprus` pred as GPE)\n",
      "\t- Walker began writing as a teenager, publishing her first story, \"The Dimensions of a Shadow\", in 1988 while studying English and journalism at the University of KVALØYSLETTA. (`University` pred as ORGANIZATION)\n",
      "\t- Lopez, Santos and Coleman is a design agency based in ESPOO. (`ESPOO` pred as GPE)\n",
      "\t- How do I change the address linked to my credit card to 2046 50 Point Walter Road Suite 067 Apt. 162, Chomutice u Horic v Podkrkonoší, Czech Republic 33156? (`Czech` pred as GPE)\n",
      "\t- How do I change the address linked to my credit card to 2046 50 Point Walter Road Suite 067 Apt. 162, Chomutice u Horic v Podkrkonoší, Czech Republic 33156? (`Republic` pred as GPE)\n",
      "\t- Spain leader gives 'kill without warning' order (`Spain` pred as GPE)\n",
      "\t- The restaurant is located at PSC 2721, Box 8637\n",
      "APO AA 06259. It serves great Danish food. (`AA` pred as GPE)\n",
      "\t- card number 3519833257665853 is lost, can you please send a new one to 609 P.O. Box 186 Apt. 561, ALT-DIETMANNS, Austria? I am in Ullaste for a business trip (`Austria` pred as GPE)\n",
      "\t- ??? Daniel Andreasen\n",
      "??? Spotherocom\n",
      "??? 2274 Via delle Coste 41\n",
      "??? Apt. 322\n",
      "??? Colle Di Tora\n",
      "??? Italy 95787 (`Italy` pred as GPE)\n"
     ]
    },
    {
     "data": {
      "text/plain": [
       "[('Sweden', 6),\n",
       " ('Cyprus', 5),\n",
       " ('University', 4),\n",
       " ('ESPOO', 4),\n",
       " ('Czech', 4),\n",
       " ('Republic', 4),\n",
       " ('Spain', 4),\n",
       " ('AA', 3),\n",
       " ('Austria', 3),\n",
       " ('Italy', 3)]"
      ]
     },
     "execution_count": 43,
     "metadata": {},
     "output_type": "execute_result"
    }
   ],
   "source": [
    "ModelError.most_common_fp_tokens(results.model_errors)"
   ]
  },
  {
   "cell_type": "markdown",
   "id": "cc2057bb-0af7-4c28-8fa7-9dcf68d4436a",
   "metadata": {
    "ExecuteTime": {
     "end_time": "2024-09-19T18:14:13.562787Z",
     "start_time": "2024-09-19T18:14:13.501083Z"
    }
   },
   "source": [
    "#### More FP analysis"
   ]
  },
  {
   "cell_type": "code",
   "execution_count": 44,
   "id": "f2612275-830f-47ad-aa32-61879b79c57f",
   "metadata": {},
   "outputs": [
    {
     "data": {
      "text/html": [
       "<div>\n",
       "<style scoped>\n",
       "    .dataframe tbody tr th:only-of-type {\n",
       "        vertical-align: middle;\n",
       "    }\n",
       "\n",
       "    .dataframe tbody tr th {\n",
       "        vertical-align: top;\n",
       "    }\n",
       "\n",
       "    .dataframe thead th {\n",
       "        text-align: right;\n",
       "    }\n",
       "</style>\n",
       "<table border=\"1\" class=\"dataframe\">\n",
       "  <thead>\n",
       "    <tr style=\"text-align: right;\">\n",
       "      <th></th>\n",
       "      <th>full_text</th>\n",
       "      <th>token</th>\n",
       "      <th>annotation</th>\n",
       "      <th>prediction</th>\n",
       "    </tr>\n",
       "  </thead>\n",
       "  <tbody>\n",
       "    <tr>\n",
       "      <th>0</th>\n",
       "      <td>Dr. Burke is a 53 year old man who grew up in KNIVSTA.</td>\n",
       "      <td>Dr.</td>\n",
       "      <td>O</td>\n",
       "      <td>PERSON</td>\n",
       "    </tr>\n",
       "    <tr>\n",
       "      <th>1</th>\n",
       "      <td>For my take on Ms. Seleznyova, see Guilty Pleasures: 5 Musicians Of The 70s You're Supposed To Hate (But Secretly Love)</td>\n",
       "      <td>Ms.</td>\n",
       "      <td>O</td>\n",
       "      <td>PERSON</td>\n",
       "    </tr>\n",
       "    <tr>\n",
       "      <th>2</th>\n",
       "      <td>My name appears incorrectly on credit card statement could you please correct it to Dr. Justin Beet?</td>\n",
       "      <td>Dr.</td>\n",
       "      <td>O</td>\n",
       "      <td>PERSON</td>\n",
       "    </tr>\n",
       "    <tr>\n",
       "      <th>3</th>\n",
       "      <td>card number 4933870304038678414 is lost, can you please send a new one to USNS Sekerková\\nFPO AA 65728? I am in Akureyri for a business trip</td>\n",
       "      <td>USNS</td>\n",
       "      <td>LOCATION</td>\n",
       "      <td>PERSON</td>\n",
       "    </tr>\n",
       "    <tr>\n",
       "      <th>4</th>\n",
       "      <td>card number 4933870304038678414 is lost, can you please send a new one to USNS Sekerková\\nFPO AA 65728? I am in Akureyri for a business trip</td>\n",
       "      <td>Sekerková</td>\n",
       "      <td>LOCATION</td>\n",
       "      <td>PERSON</td>\n",
       "    </tr>\n",
       "    <tr>\n",
       "      <th>5</th>\n",
       "      <td>card number 4933870304038678414 is lost, can you please send a new one to USNS Sekerková\\nFPO AA 65728? I am in Akureyri for a business trip</td>\n",
       "      <td>USNS</td>\n",
       "      <td>LOCATION</td>\n",
       "      <td>PERSON</td>\n",
       "    </tr>\n",
       "    <tr>\n",
       "      <th>6</th>\n",
       "      <td>card number 4933870304038678414 is lost, can you please send a new one to USNS Sekerková\\nFPO AA 65728? I am in Akureyri for a business trip</td>\n",
       "      <td>Sekerková</td>\n",
       "      <td>LOCATION</td>\n",
       "      <td>PERSON</td>\n",
       "    </tr>\n",
       "  </tbody>\n",
       "</table>\n",
       "</div>"
      ],
      "text/plain": [
       "                                                                                                                                      full_text  \\\n",
       "0                                                                                        Dr. Burke is a 53 year old man who grew up in KNIVSTA.   \n",
       "1                       For my take on Ms. Seleznyova, see Guilty Pleasures: 5 Musicians Of The 70s You're Supposed To Hate (But Secretly Love)   \n",
       "2                                          My name appears incorrectly on credit card statement could you please correct it to Dr. Justin Beet?   \n",
       "3  card number 4933870304038678414 is lost, can you please send a new one to USNS Sekerková\\nFPO AA 65728? I am in Akureyri for a business trip   \n",
       "4  card number 4933870304038678414 is lost, can you please send a new one to USNS Sekerková\\nFPO AA 65728? I am in Akureyri for a business trip   \n",
       "5  card number 4933870304038678414 is lost, can you please send a new one to USNS Sekerková\\nFPO AA 65728? I am in Akureyri for a business trip   \n",
       "6  card number 4933870304038678414 is lost, can you please send a new one to USNS Sekerková\\nFPO AA 65728? I am in Akureyri for a business trip   \n",
       "\n",
       "       token annotation prediction  \n",
       "0        Dr.          O     PERSON  \n",
       "1        Ms.          O     PERSON  \n",
       "2        Dr.          O     PERSON  \n",
       "3       USNS   LOCATION     PERSON  \n",
       "4  Sekerková   LOCATION     PERSON  \n",
       "5       USNS   LOCATION     PERSON  \n",
       "6  Sekerková   LOCATION     PERSON  "
      ]
     },
     "execution_count": 44,
     "metadata": {},
     "output_type": "execute_result"
    }
   ],
   "source": [
    "fps_df = ModelError.get_fps_dataframe(results.model_errors, entity=[\"PERSON\"])\n",
    "fps_df[[\"full_text\", \"token\", \"annotation\", \"prediction\"]].head(20)"
   ]
  },
  {
   "cell_type": "markdown",
   "id": "d0852513",
   "metadata": {},
   "source": [
    "### 7b. False negatives (FN)\n",
    "\n",
    "#### Most common false negative examples + a few samples with FN"
   ]
  },
  {
   "cell_type": "code",
   "execution_count": 48,
   "id": "afae40fc",
   "metadata": {
    "ExecuteTime": {
     "end_time": "2024-09-19T18:14:13.661044Z",
     "start_time": "2024-09-19T18:14:13.595728Z"
    }
   },
   "outputs": [
    {
     "name": "stdout",
     "output_type": "stream",
     "text": [
      "Most common false negative tokens:\n",
      "[('ul', 6),\n",
      " ('AA', 6),\n",
      " ('Cyprus', 6),\n",
      " ('Czech', 6),\n",
      " ('Sweden', 6),\n",
      " ('Greek', 5),\n",
      " ('PSC', 5),\n",
      " ('APO', 5),\n",
      " ('FPO', 4),\n",
      " ('AE', 4),\n",
      " ('Road', 4),\n",
      " ('ESPOO', 4),\n",
      " ('Republic', 4),\n",
      " ('Spain', 4),\n",
      " ('Rua', 3),\n",
      " ('Austria', 3),\n",
      " ('Italy', 3),\n",
      " ('Hungary', 3),\n",
      " ('Estonia', 3),\n",
      " ('Netherlands', 3),\n",
      " ('del', 2),\n",
      " ('94', 2),\n",
      " ('Nicosia', 2),\n",
      " ('Josef', 2),\n",
      " ('Roma', 2),\n",
      " ('131', 2),\n",
      " ('Thursday', 2),\n",
      " ('41', 2),\n",
      " ('74', 2),\n",
      " ('BUNDALAGUAH', 2),\n",
      " ('VIC', 2),\n",
      " ('204', 2),\n",
      " ('22', 2),\n",
      " ('83', 2),\n",
      " ('Swedish', 2),\n",
      " ('DPO', 2),\n",
      " ('American', 2),\n",
      " ('Poland', 2),\n",
      " ('33', 2),\n",
      " ('Drive', 2),\n",
      " ('New', 2),\n",
      " ('Zealand', 2),\n",
      " ('55', 2),\n",
      " ('Thaddeus', 2),\n",
      " ('Brazil', 2),\n",
      " ('Greenlander', 2),\n",
      " ('Finland', 2),\n",
      " ('South', 2),\n",
      " ('Africa', 2),\n",
      " ('Nuova', 1)]\n",
      "---------------\n",
      "Example sentence with each FN token:\n",
      "\t- >Oline Mikaelsen\n",
      ">Roadify Transit\n",
      ">Oline Mikaelsen\n",
      ">772 ul. Narewska 94\n",
      ">Apt. 478\n",
      ">Poznań\n",
      ">Poland 35403 (`ul` annotated as LOCATION)\n",
      "\t- What is your address? it is USNV Vincent\n",
      "FPO AA 68422 (`AA` annotated as LOCATION)\n",
      "\t- Olga Krylova\n",
      "Cable line installer\n",
      "Here\n",
      "1610 ul. Zakrzowska 92 Apt. 399, ΠΑΡΕΚΚΛΗΣΙΑ, Cyprus (Greek) 72423 (`Cyprus` annotated as LOCATION)\n",
      "\t- So where are we meeting? There's this nice new Czech place downtown. Cool, what's the address? Oh do they serve vegan stuff? It's in 675 224 Forrest Hill Road Suite 833 Milford New Zealand (`Czech` annotated as NRP)\n",
      "\t- Dataweave\n",
      "\n",
      "Fuglie 41 Popović Dam\n",
      " Suite 860\n",
      " UPPLANDS VÄSBY\n",
      " Sweden 56687 (`Sweden` annotated as LOCATION)\n",
      "\t- Please return to 94941 2505 Heatherleigh Suite 620 Apt. 581, ΠΑΦΟΣ, Cyprus (Greek) 13475 in case of an issue. (`Greek` annotated as LOCATION)\n",
      "\t- The restaurant is located at PSC 2721, Box 8637\n",
      "APO AA 06259. It serves great Danish food. (`PSC` annotated as LOCATION)\n",
      "\t- Thomas Svendsen\n",
      "Assistant property manager\n",
      "Hopstop\n",
      "PSC 6477, Box 2981\n",
      "APO AE 83700 (`APO` annotated as LOCATION)\n",
      "\t- Hello I moved, please update my new address is USS Lorenzen\n",
      "FPO AE 25990 (`FPO` annotated as LOCATION)\n",
      "\t- Hello I moved, please update my new address is USS Lorenzen\n",
      "FPO AE 25990 (`AE` annotated as LOCATION)\n",
      "\t- How do I change the address linked to my credit card to 2046 50 Point Walter Road Suite 067 Apt. 162, Chomutice u Horic v Podkrkonoší, Czech Republic 33156? (`Road` annotated as LOCATION)\n",
      "\t- Lopez, Santos and Coleman is a design agency based in ESPOO. (`ESPOO` annotated as LOCATION)\n",
      "\t- How do I change the address linked to my credit card to 2046 50 Point Walter Road Suite 067 Apt. 162, Chomutice u Horic v Podkrkonoší, Czech Republic 33156? (`Republic` annotated as LOCATION)\n",
      "\t- Spain leader gives 'kill without warning' order (`Spain` annotated as LOCATION)\n",
      "\t- The bus drops you off at 10963 Rua Vinte e Cinco de Setembro 1257 St. (`Rua` annotated as LOCATION)\n",
      "\t- card number 3519833257665853 is lost, can you please send a new one to 609 P.O. Box 186 Apt. 561, ALT-DIETMANNS, Austria? I am in Ullaste for a business trip (`Austria` annotated as LOCATION)\n",
      "\t- ??? Daniel Andreasen\n",
      "??? Spotherocom\n",
      "??? 2274 Via delle Coste 41\n",
      "??? Apt. 322\n",
      "??? Colle Di Tora\n",
      "??? Italy 95787 (`Italy` annotated as LOCATION)\n",
      "\t- She moved here from Hungary (`Hungary` annotated as LOCATION)\n",
      "\t- Estonia was super fun to visit! (`Estonia` annotated as LOCATION)\n",
      "\t- The Golden Helix Orchestra was founded in 1978. Since then, it has grown from a volunteer community orchestra to a fully professional orchestra serving Southern Netherlands (`Netherlands` annotated as LOCATION)\n",
      "\t- The address of Glover, Ruiz and Armstrong is the corner of Via Nuova del Campo 85 and Baranyay Mill (`del` annotated as LOCATION)\n",
      "\t- >Oline Mikaelsen\n",
      ">Roadify Transit\n",
      ">Oline Mikaelsen\n",
      ">772 ul. Narewska 94\n",
      ">Apt. 478\n",
      ">Poznań\n",
      ">Poland 35403 (`94` annotated as LOCATION)\n",
      "\t- Csanád P Gere lives at 3178 254 Damvergi Street, Nicosia (`Nicosia` annotated as LOCATION)\n",
      "\t- Josef had given Josef his address: 6138 Via Roma 131 (`Josef` annotated as PERSON)\n",
      "\t- Josef had given Josef his address: 6138 Via Roma 131 (`Roma` annotated as LOCATION)\n",
      "\t- Josef had given Josef his address: 6138 Via Roma 131 (`131` annotated as LOCATION)\n",
      "\t- Mr. Kozłowski flew to Suurküla on Thursday morning. (`Thursday` annotated as DATE_TIME)\n",
      "\t- Dataweave\n",
      "\n",
      "Fuglie 41 Popović Dam\n",
      " Suite 860\n",
      " UPPLANDS VÄSBY\n",
      " Sweden 56687 (`41` annotated as LOCATION)\n",
      "\t- What is your address? it is 91211 Koepenicker Str. 74 Suite 980 Reichenbach Rheinland-Pfalz (`74` annotated as LOCATION)\n",
      "\t- I'd like to call a taxi to 6889 ul. Jarzębinowa 5\n",
      "BUNDALAGUAH\n",
      ", VIC\n",
      " Australia 38837. Please call me when you're here. (`BUNDALAGUAH` annotated as LOCATION)\n",
      "\t- I'd like to call a taxi to 6889 ul. Jarzębinowa 5\n",
      "BUNDALAGUAH\n",
      ", VIC\n",
      " Australia 38837. Please call me when you're here. (`VIC` annotated as LOCATION)\n",
      "\t- 3565 Πλατεία Συντάγματος 204\n",
      " Suite 279\n",
      " ΑΣΚΕΙΑ (ΑΣΣΕΙΑ)\n",
      " Cyprus (Greek) 13429 (`204` annotated as LOCATION)\n",
      "\t- Lara  Fiorentino\n",
      "\n",
      "Dining room and cafeteria attendant\n",
      "\n",
      "Personal Info:\n",
      "Phone:\n",
      "(71) 4233-6306\n",
      "\n",
      "E-mail:\n",
      "LaraFiorentino@armyspy.com\n",
      "\n",
      "Website:\n",
      "https://www.HowDangerous.be/\n",
      "\n",
      "Address:\n",
      "87645 22 Talga Court Apt. 331\n",
      "Kaster\n",
      ", VWV\n",
      " 04494. (`22` annotated as LOCATION)\n",
      "\t- I need to add my addresses, here they are: 903 83 Dora Creek Apt. 176\n",
      "SCHEIBBS, NO 14908, and Ilmalankuja 82 Zachary Cliffs\n",
      " Apt. 446\n",
      " PORI\n",
      " Finland 87971 (`83` annotated as LOCATION)\n",
      "\t- From the film Swedish graffiti (also features Hilding Carlsson. What's not to love? (`Swedish` annotated as NRP)\n",
      "\t- Meet me at Unit 7194 Box 5854\n",
      "DPO AE 73472 (`DPO` annotated as LOCATION)\n",
      "\t- The restaurant is located at PSC 9009, Box 9725\n",
      "APO AA 33274. It serves great American food. (`American` annotated as NRP)\n",
      "\t- The restaurant is located at 731 ul. Miła 57 Apt. 819 Rzeszów Poland. It serves great Polish food. (`Poland` annotated as LOCATION)\n",
      "\t- Please return to 35108 ul. Zamkowa 33 Apt. 406\n",
      "Beerze\n",
      ", OV\n",
      " Netherlands 02032 in case of an issue. (`33` annotated as LOCATION)\n",
      "\t- I once lived in 178 Piermark Drive Zak Points\n",
      " Apt. 335\n",
      " Albany\n",
      " New Zealand 79879. I now live in 94472 Atamaria 55\n",
      "Gondregnies\n",
      ", WHT\n",
      " 59050 (`Drive` annotated as LOCATION)\n",
      "\t- I once lived in 178 Piermark Drive Zak Points\n",
      " Apt. 335\n",
      " Albany\n",
      " New Zealand 79879. I now live in 94472 Atamaria 55\n",
      "Gondregnies\n",
      ", WHT\n",
      " 59050 (`New` annotated as LOCATION)\n",
      "\t- I once lived in 178 Piermark Drive Zak Points\n",
      " Apt. 335\n",
      " Albany\n",
      " New Zealand 79879. I now live in 94472 Atamaria 55\n",
      "Gondregnies\n",
      ", WHT\n",
      " 59050 (`Zealand` annotated as LOCATION)\n",
      "\t- I once lived in 178 Piermark Drive Zak Points\n",
      " Apt. 335\n",
      " Albany\n",
      " New Zealand 79879. I now live in 94472 Atamaria 55\n",
      "Gondregnies\n",
      ", WHT\n",
      " 59050 (`55` annotated as LOCATION)\n",
      "\t- Thaddeus had given Thaddeus his address: 049 Langeskov-Centret 83 (`Thaddeus` annotated as PERSON)\n",
      "\t- Amazon Web Services\n",
      "\n",
      "9092 Avda. Generalísimo 6 Apt. 868\n",
      "Paulista\n",
      ", PE\n",
      " Brazil 55179 (`Brazil` annotated as LOCATION)\n",
      "\t- I'm originally from Greenlander (`Greenlander` annotated as LOCATION)\n",
      "\t- I need to add my addresses, here they are: 903 83 Dora Creek Apt. 176\n",
      "SCHEIBBS, NO 14908, and Ilmalankuja 82 Zachary Cliffs\n",
      " Apt. 446\n",
      " PORI\n",
      " Finland 87971 (`Finland` annotated as LOCATION)\n",
      "\t- Harry Sheppard\n",
      "\n",
      "515 385 Gemsbok St\n",
      " Apt. 460\n",
      " Pietersburg\n",
      " South Africa 89082\n",
      "085 175 7641-Office\\,3660170548-Fax (`South` annotated as LOCATION)\n",
      "\t- Harry Sheppard\n",
      "\n",
      "515 385 Gemsbok St\n",
      " Apt. 460\n",
      " Pietersburg\n",
      " South Africa 89082\n",
      "085 175 7641-Office\\,3660170548-Fax (`Africa` annotated as LOCATION)\n",
      "\t- The address of Glover, Ruiz and Armstrong is the corner of Via Nuova del Campo 85 and Baranyay Mill (`Nuova` annotated as LOCATION)\n"
     ]
    },
    {
     "data": {
      "text/plain": [
       "[('ul', 6),\n",
       " ('AA', 6),\n",
       " ('Cyprus', 6),\n",
       " ('Czech', 6),\n",
       " ('Sweden', 6),\n",
       " ('Greek', 5),\n",
       " ('PSC', 5),\n",
       " ('APO', 5),\n",
       " ('FPO', 4),\n",
       " ('AE', 4),\n",
       " ('Road', 4),\n",
       " ('ESPOO', 4),\n",
       " ('Republic', 4),\n",
       " ('Spain', 4),\n",
       " ('Rua', 3),\n",
       " ('Austria', 3),\n",
       " ('Italy', 3),\n",
       " ('Hungary', 3),\n",
       " ('Estonia', 3),\n",
       " ('Netherlands', 3),\n",
       " ('del', 2),\n",
       " ('94', 2),\n",
       " ('Nicosia', 2),\n",
       " ('Josef', 2),\n",
       " ('Roma', 2),\n",
       " ('131', 2),\n",
       " ('Thursday', 2),\n",
       " ('41', 2),\n",
       " ('74', 2),\n",
       " ('BUNDALAGUAH', 2),\n",
       " ('VIC', 2),\n",
       " ('204', 2),\n",
       " ('22', 2),\n",
       " ('83', 2),\n",
       " ('Swedish', 2),\n",
       " ('DPO', 2),\n",
       " ('American', 2),\n",
       " ('Poland', 2),\n",
       " ('33', 2),\n",
       " ('Drive', 2),\n",
       " ('New', 2),\n",
       " ('Zealand', 2),\n",
       " ('55', 2),\n",
       " ('Thaddeus', 2),\n",
       " ('Brazil', 2),\n",
       " ('Greenlander', 2),\n",
       " ('Finland', 2),\n",
       " ('South', 2),\n",
       " ('Africa', 2),\n",
       " ('Nuova', 1)]"
      ]
     },
     "execution_count": 48,
     "metadata": {},
     "output_type": "execute_result"
    }
   ],
   "source": [
    "ModelError.most_common_fn_tokens(results.model_errors, n=50)"
   ]
  },
  {
   "cell_type": "markdown",
   "id": "44ed6416",
   "metadata": {},
   "source": [
    "#### More FN analysis"
   ]
  },
  {
   "cell_type": "code",
   "execution_count": 46,
   "id": "7abfcbe9",
   "metadata": {
    "ExecuteTime": {
     "end_time": "2024-09-19T18:14:13.745681Z",
     "start_time": "2024-09-19T18:14:13.682894Z"
    }
   },
   "outputs": [],
   "source": [
    "fns_df = ModelError.get_fns_dataframe(results.model_errors, entity=[\"PERSON\"])"
   ]
  },
  {
   "cell_type": "code",
   "execution_count": 47,
   "id": "9ae73b2e",
   "metadata": {
    "ExecuteTime": {
     "end_time": "2024-09-19T18:14:13.815256Z",
     "start_time": "2024-09-19T18:14:13.750819Z"
    }
   },
   "outputs": [
    {
     "data": {
      "text/html": [
       "<div>\n",
       "<style scoped>\n",
       "    .dataframe tbody tr th:only-of-type {\n",
       "        vertical-align: middle;\n",
       "    }\n",
       "\n",
       "    .dataframe tbody tr th {\n",
       "        vertical-align: top;\n",
       "    }\n",
       "\n",
       "    .dataframe thead th {\n",
       "        text-align: right;\n",
       "    }\n",
       "</style>\n",
       "<table border=\"1\" class=\"dataframe\">\n",
       "  <thead>\n",
       "    <tr style=\"text-align: right;\">\n",
       "      <th></th>\n",
       "      <th>full_text</th>\n",
       "      <th>token</th>\n",
       "      <th>annotation</th>\n",
       "      <th>prediction</th>\n",
       "    </tr>\n",
       "  </thead>\n",
       "  <tbody>\n",
       "    <tr>\n",
       "      <th>0</th>\n",
       "      <td>&gt;Oline Mikaelsen\\n&gt;Roadify Transit\\n&gt;Oline Mikaelsen\\n&gt;772 ul. Narewska 94\\n&gt;Apt. 478\\n&gt;Poznań\\n&gt;Poland 35403</td>\n",
       "      <td>Oline</td>\n",
       "      <td>PERSON</td>\n",
       "      <td>O</td>\n",
       "    </tr>\n",
       "    <tr>\n",
       "      <th>1</th>\n",
       "      <td>&gt;Oline Mikaelsen\\n&gt;Roadify Transit\\n&gt;Oline Mikaelsen\\n&gt;772 ul. Narewska 94\\n&gt;Apt. 478\\n&gt;Poznań\\n&gt;Poland 35403</td>\n",
       "      <td>Mikaelsen</td>\n",
       "      <td>PERSON</td>\n",
       "      <td>O</td>\n",
       "    </tr>\n",
       "    <tr>\n",
       "      <th>2</th>\n",
       "      <td>When they weren't singing about Hobbits, satanic felines and interstellar journeys, they were singing about the verses from Terence Vassiliev's Cautionary Tales. Is there a better example of unbridled creativity than early Vassiliev?</td>\n",
       "      <td>Vassiliev</td>\n",
       "      <td>PERSON</td>\n",
       "      <td>O</td>\n",
       "    </tr>\n",
       "    <tr>\n",
       "      <th>3</th>\n",
       "      <td>When they weren't singing about Hobbits, satanic felines and interstellar journeys, they were singing about the verses from Alice Goldberg's Cautionary Tales. Is there a better example of unbridled creativity than early Goldberg?</td>\n",
       "      <td>Goldberg</td>\n",
       "      <td>PERSON</td>\n",
       "      <td>O</td>\n",
       "    </tr>\n",
       "    <tr>\n",
       "      <th>4</th>\n",
       "      <td>Josef had given Josef his address: 6138 Via Roma 131</td>\n",
       "      <td>Josef</td>\n",
       "      <td>PERSON</td>\n",
       "      <td>O</td>\n",
       "    </tr>\n",
       "    <tr>\n",
       "      <th>5</th>\n",
       "      <td>Josef had given Josef his address: 6138 Via Roma 131</td>\n",
       "      <td>Josef</td>\n",
       "      <td>PERSON</td>\n",
       "      <td>O</td>\n",
       "    </tr>\n",
       "    <tr>\n",
       "      <th>6</th>\n",
       "      <td>Walker began writing as a teenager, publishing her first story, \"The Dimensions of a Shadow\", in 1988 while studying English and journalism at the University of KVALØYSLETTA.</td>\n",
       "      <td>Walker</td>\n",
       "      <td>PERSON</td>\n",
       "      <td>O</td>\n",
       "    </tr>\n",
       "    <tr>\n",
       "      <th>7</th>\n",
       "      <td>Leverett: What a wife.\\nDanielle: Remember me, Alexander? When I killed your brother, I talked just like this!\\nJonathan: You saved my life! How can I ever repay you?</td>\n",
       "      <td>Leverett</td>\n",
       "      <td>PERSON</td>\n",
       "      <td>O</td>\n",
       "    </tr>\n",
       "    <tr>\n",
       "      <th>8</th>\n",
       "      <td>Gijsbrecht: \"Who are you?\"\\nAshley:\"I'm Melvin's daughter\".</td>\n",
       "      <td>Gijsbrecht</td>\n",
       "      <td>PERSON</td>\n",
       "      <td>O</td>\n",
       "    </tr>\n",
       "    <tr>\n",
       "      <th>9</th>\n",
       "      <td>Adomo began writing as a teenager, publishing her first story, \"The Dimensions of a Shadow\", in 2001 while studying English and journalism at the University of BASHALL TOWN.</td>\n",
       "      <td>Adomo</td>\n",
       "      <td>PERSON</td>\n",
       "      <td>O</td>\n",
       "    </tr>\n",
       "    <tr>\n",
       "      <th>10</th>\n",
       "      <td>Margaret S. Stouffer of Guidestar is the CEO of the year. ABC Business considered several other influential CEOs for this year's honor, including Kristen Rocher of Butler-Peters, Panjiva's Riku Andou, Jeremy Hartmann of Gradiant Research LLC's, Ástríður Steinarsdóttir of Inrix Traffic, and Consumer Reports's Impi Nummelin.</td>\n",
       "      <td>Jeremy</td>\n",
       "      <td>PERSON</td>\n",
       "      <td>O</td>\n",
       "    </tr>\n",
       "    <tr>\n",
       "      <th>11</th>\n",
       "      <td>Margaret S. Stouffer of Guidestar is the CEO of the year. ABC Business considered several other influential CEOs for this year's honor, including Kristen Rocher of Butler-Peters, Panjiva's Riku Andou, Jeremy Hartmann of Gradiant Research LLC's, Ástríður Steinarsdóttir of Inrix Traffic, and Consumer Reports's Impi Nummelin.</td>\n",
       "      <td>Hartmann</td>\n",
       "      <td>PERSON</td>\n",
       "      <td>O</td>\n",
       "    </tr>\n",
       "    <tr>\n",
       "      <th>12</th>\n",
       "      <td>Zoolander is a 2018 Russian action-comedy film directed by Valentine S. Yermakov and starring Yermakov</td>\n",
       "      <td>Yermakov</td>\n",
       "      <td>PERSON</td>\n",
       "      <td>O</td>\n",
       "    </tr>\n",
       "    <tr>\n",
       "      <th>13</th>\n",
       "      <td>Zuzana: \"Who are you?\"\\nZuzana:\"I'm Jennifer's daughter\".</td>\n",
       "      <td>Zuzana:\"I'm</td>\n",
       "      <td>PERSON</td>\n",
       "      <td>O</td>\n",
       "    </tr>\n",
       "    <tr>\n",
       "      <th>14</th>\n",
       "      <td>Blink-182 pay tribute here to the Sweden. Producer Robinette Dennis explained to Fuse TV: \"We all liked the idea of writing a song about our state, where we live and love. To me it's the most beautiful place in the world, this song was us giving credit to how lucky we are to have lived here and grown up here, raising families here, the whole thing.\"</td>\n",
       "      <td>Robinette</td>\n",
       "      <td>PERSON</td>\n",
       "      <td>O</td>\n",
       "    </tr>\n",
       "    <tr>\n",
       "      <th>15</th>\n",
       "      <td>Blink-182 pay tribute here to the Sweden. Producer Robinette Dennis explained to Fuse TV: \"We all liked the idea of writing a song about our state, where we live and love. To me it's the most beautiful place in the world, this song was us giving credit to how lucky we are to have lived here and grown up here, raising families here, the whole thing.\"</td>\n",
       "      <td>Dennis</td>\n",
       "      <td>PERSON</td>\n",
       "      <td>O</td>\n",
       "    </tr>\n",
       "    <tr>\n",
       "      <th>16</th>\n",
       "      <td>&gt;Rolando Lettiere\\n&gt;Caspio\\n&gt;Rolando Lettiere\\n&gt;03220 Augsburger Strasse 36\\n&gt;Suite 960\\n&gt;Schuld\\n&gt;Germany 10069</td>\n",
       "      <td>Rolando</td>\n",
       "      <td>PERSON</td>\n",
       "      <td>O</td>\n",
       "    </tr>\n",
       "    <tr>\n",
       "      <th>17</th>\n",
       "      <td>&gt;Rolando Lettiere\\n&gt;Caspio\\n&gt;Rolando Lettiere\\n&gt;03220 Augsburger Strasse 36\\n&gt;Suite 960\\n&gt;Schuld\\n&gt;Germany 10069</td>\n",
       "      <td>Lettiere</td>\n",
       "      <td>PERSON</td>\n",
       "      <td>O</td>\n",
       "    </tr>\n",
       "    <tr>\n",
       "      <th>18</th>\n",
       "      <td>One of the most depressing songs on the list. He's injured from the waist down from Spain, but Stanko just has to get laid. Don't go to town, Derrick!</td>\n",
       "      <td>Stanko</td>\n",
       "      <td>PERSON</td>\n",
       "      <td>O</td>\n",
       "    </tr>\n",
       "    <tr>\n",
       "      <th>19</th>\n",
       "      <td>Thaddeus had given Thaddeus his address: 049 Langeskov-Centret 83</td>\n",
       "      <td>Thaddeus</td>\n",
       "      <td>PERSON</td>\n",
       "      <td>O</td>\n",
       "    </tr>\n",
       "  </tbody>\n",
       "</table>\n",
       "</div>"
      ],
      "text/plain": [
       "                                                                                                                                                                                                                                                                                                                                                          full_text  \\\n",
       "0                                                                                                                                                                                                                                                     >Oline Mikaelsen\\n>Roadify Transit\\n>Oline Mikaelsen\\n>772 ul. Narewska 94\\n>Apt. 478\\n>Poznań\\n>Poland 35403   \n",
       "1                                                                                                                                                                                                                                                     >Oline Mikaelsen\\n>Roadify Transit\\n>Oline Mikaelsen\\n>772 ul. Narewska 94\\n>Apt. 478\\n>Poznań\\n>Poland 35403   \n",
       "2                                                                                                                         When they weren't singing about Hobbits, satanic felines and interstellar journeys, they were singing about the verses from Terence Vassiliev's Cautionary Tales. Is there a better example of unbridled creativity than early Vassiliev?   \n",
       "3                                                                                                                             When they weren't singing about Hobbits, satanic felines and interstellar journeys, they were singing about the verses from Alice Goldberg's Cautionary Tales. Is there a better example of unbridled creativity than early Goldberg?   \n",
       "4                                                                                                                                                                                                                                                                                                              Josef had given Josef his address: 6138 Via Roma 131   \n",
       "5                                                                                                                                                                                                                                                                                                              Josef had given Josef his address: 6138 Via Roma 131   \n",
       "6                                                                                                                                                                                    Walker began writing as a teenager, publishing her first story, \"The Dimensions of a Shadow\", in 1988 while studying English and journalism at the University of KVALØYSLETTA.   \n",
       "7                                                                                                                                                                                            Leverett: What a wife.\\nDanielle: Remember me, Alexander? When I killed your brother, I talked just like this!\\nJonathan: You saved my life! How can I ever repay you?   \n",
       "8                                                                                                                                                                                                                                                                                                       Gijsbrecht: \"Who are you?\"\\nAshley:\"I'm Melvin's daughter\".   \n",
       "9                                                                                                                                                                                     Adomo began writing as a teenager, publishing her first story, \"The Dimensions of a Shadow\", in 2001 while studying English and journalism at the University of BASHALL TOWN.   \n",
       "10                             Margaret S. Stouffer of Guidestar is the CEO of the year. ABC Business considered several other influential CEOs for this year's honor, including Kristen Rocher of Butler-Peters, Panjiva's Riku Andou, Jeremy Hartmann of Gradiant Research LLC's, Ástríður Steinarsdóttir of Inrix Traffic, and Consumer Reports's Impi Nummelin.   \n",
       "11                             Margaret S. Stouffer of Guidestar is the CEO of the year. ABC Business considered several other influential CEOs for this year's honor, including Kristen Rocher of Butler-Peters, Panjiva's Riku Andou, Jeremy Hartmann of Gradiant Research LLC's, Ástríður Steinarsdóttir of Inrix Traffic, and Consumer Reports's Impi Nummelin.   \n",
       "12                                                                                                                                                                                                                                                           Zoolander is a 2018 Russian action-comedy film directed by Valentine S. Yermakov and starring Yermakov   \n",
       "13                                                                                                                                                                                                                                                                                                        Zuzana: \"Who are you?\"\\nZuzana:\"I'm Jennifer's daughter\".   \n",
       "14  Blink-182 pay tribute here to the Sweden. Producer Robinette Dennis explained to Fuse TV: \"We all liked the idea of writing a song about our state, where we live and love. To me it's the most beautiful place in the world, this song was us giving credit to how lucky we are to have lived here and grown up here, raising families here, the whole thing.\"   \n",
       "15  Blink-182 pay tribute here to the Sweden. Producer Robinette Dennis explained to Fuse TV: \"We all liked the idea of writing a song about our state, where we live and love. To me it's the most beautiful place in the world, this song was us giving credit to how lucky we are to have lived here and grown up here, raising families here, the whole thing.\"   \n",
       "16                                                                                                                                                                                                                                                 >Rolando Lettiere\\n>Caspio\\n>Rolando Lettiere\\n>03220 Augsburger Strasse 36\\n>Suite 960\\n>Schuld\\n>Germany 10069   \n",
       "17                                                                                                                                                                                                                                                 >Rolando Lettiere\\n>Caspio\\n>Rolando Lettiere\\n>03220 Augsburger Strasse 36\\n>Suite 960\\n>Schuld\\n>Germany 10069   \n",
       "18                                                                                                                                                                                                           One of the most depressing songs on the list. He's injured from the waist down from Spain, but Stanko just has to get laid. Don't go to town, Derrick!   \n",
       "19                                                                                                                                                                                                                                                                                                Thaddeus had given Thaddeus his address: 049 Langeskov-Centret 83   \n",
       "\n",
       "          token annotation prediction  \n",
       "0         Oline     PERSON          O  \n",
       "1     Mikaelsen     PERSON          O  \n",
       "2     Vassiliev     PERSON          O  \n",
       "3      Goldberg     PERSON          O  \n",
       "4         Josef     PERSON          O  \n",
       "5         Josef     PERSON          O  \n",
       "6        Walker     PERSON          O  \n",
       "7      Leverett     PERSON          O  \n",
       "8    Gijsbrecht     PERSON          O  \n",
       "9         Adomo     PERSON          O  \n",
       "10       Jeremy     PERSON          O  \n",
       "11     Hartmann     PERSON          O  \n",
       "12     Yermakov     PERSON          O  \n",
       "13  Zuzana:\"I'm     PERSON          O  \n",
       "14    Robinette     PERSON          O  \n",
       "15       Dennis     PERSON          O  \n",
       "16      Rolando     PERSON          O  \n",
       "17     Lettiere     PERSON          O  \n",
       "18       Stanko     PERSON          O  \n",
       "19     Thaddeus     PERSON          O  "
      ]
     },
     "execution_count": 47,
     "metadata": {},
     "output_type": "execute_result"
    }
   ],
   "source": [
    "fns_df[[\"full_text\", \"token\", \"annotation\", \"prediction\"]].head(20)"
   ]
  }
 ],
 "metadata": {
  "kernelspec": {
   "display_name": "presidio-evaluator",
   "language": "python",
   "name": "python3"
  },
  "language_info": {
   "codemirror_mode": {
    "name": "ipython",
    "version": 3
   },
   "file_extension": ".py",
   "mimetype": "text/x-python",
   "name": "python",
   "nbconvert_exporter": "python",
   "pygments_lexer": "ipython3",
   "version": "3.10.16"
  }
 },
 "nbformat": 4,
 "nbformat_minor": 5
}
